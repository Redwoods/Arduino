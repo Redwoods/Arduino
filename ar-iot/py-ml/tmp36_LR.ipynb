{
  "nbformat": 4,
  "nbformat_minor": 0,
  "metadata": {
    "colab": {
      "name": "tmp36_LR.ipynb",
      "provenance": [],
      "collapsed_sections": [],
      "include_colab_link": true
    },
    "kernelspec": {
      "name": "python3",
      "display_name": "Python 3"
    }
  },
  "cells": [
    {
      "cell_type": "markdown",
      "metadata": {
        "id": "view-in-github",
        "colab_type": "text"
      },
      "source": [
        "<a href=\"https://colab.research.google.com/github/Redwoods/Arduino/blob/master/ar-iot/py-ml/tmp36_LR.ipynb\" target=\"_parent\"><img src=\"https://colab.research.google.com/assets/colab-badge.svg\" alt=\"Open In Colab\"/></a>"
      ]
    },
    {
      "cell_type": "markdown",
      "metadata": {
        "id": "RzjH5Z33Dyma"
      },
      "source": [
        "### Linear regression of TMP36 sensor\n",
        "- Output voltage vs. Temperature\n",
        "    - V: 0, 500, 1000\n",
        "    - T: -50, 0, 50\n",
        "> Find the relation between V and T\n",
        ">> Use sklearn module in Python\n"
      ]
    },
    {
      "cell_type": "markdown",
      "metadata": {
        "id": "rN50RMHcSTse"
      },
      "source": [
        "### TMP36 센서의 전압-온도 특성"
      ]
    },
    {
      "cell_type": "markdown",
      "metadata": {
        "id": "vuJd1tV2MBGg"
      },
      "source": [
        "![tmp36_V_vs_T](https://github.com/Redwoods/Arduino/blob/master/ar-iot/py-ml/tmp36_V_T.png?raw=true)"
      ]
    },
    {
      "cell_type": "code",
      "metadata": {
        "id": "wnfv4WePDm23"
      },
      "source": [
        "# Import packages and classes\n",
        "import numpy as np\n",
        "from sklearn.linear_model import LinearRegression"
      ],
      "execution_count": 1,
      "outputs": []
    },
    {
      "cell_type": "code",
      "metadata": {
        "id": "AyBStz0QEkoI"
      },
      "source": [
        "# Provide data\n",
        "x = np.array([0, 500, 1000])   # V in mV\n",
        "y = np.array([-50, 0, 50])     # T in C"
      ],
      "execution_count": 2,
      "outputs": []
    },
    {
      "cell_type": "code",
      "metadata": {
        "id": "rGgIfbl5FAxa",
        "colab": {
          "base_uri": "https://localhost:8080/"
        },
        "outputId": "744eec11-6e51-4d58-eed7-55217655941b"
      },
      "source": [
        "print(x,y)"
      ],
      "execution_count": 3,
      "outputs": [
        {
          "output_type": "stream",
          "name": "stdout",
          "text": [
            "[   0  500 1000] [-50   0  50]\n"
          ]
        }
      ]
    },
    {
      "cell_type": "code",
      "metadata": {
        "id": "g2JRdZzKFMzC",
        "colab": {
          "base_uri": "https://localhost:8080/"
        },
        "outputId": "b5dcb57b-3646-4acd-c2db-38c255e35732"
      },
      "source": [
        "x = x.reshape(-1,1)\n",
        "print(x)"
      ],
      "execution_count": 4,
      "outputs": [
        {
          "output_type": "stream",
          "name": "stdout",
          "text": [
            "[[   0]\n",
            " [ 500]\n",
            " [1000]]\n"
          ]
        }
      ]
    },
    {
      "cell_type": "code",
      "metadata": {
        "id": "F9AXa_0JFUYT",
        "colab": {
          "base_uri": "https://localhost:8080/"
        },
        "outputId": "ddebde1a-72a8-4bb2-d6f3-755c3af4c78d"
      },
      "source": [
        "x.shape,y.shape"
      ],
      "execution_count": 5,
      "outputs": [
        {
          "output_type": "execute_result",
          "data": {
            "text/plain": [
              "((3, 1), (3,))"
            ]
          },
          "metadata": {},
          "execution_count": 5
        }
      ]
    },
    {
      "cell_type": "code",
      "metadata": {
        "id": "ZTDxS1oGFc4G",
        "colab": {
          "base_uri": "https://localhost:8080/"
        },
        "outputId": "f22d9e1e-45bd-45a2-c0e2-82e457edf763"
      },
      "source": [
        "# Create a model and fit it\n",
        "model = LinearRegression()\n",
        "# fit\n",
        "model.fit(x, y)\n",
        "# model = LinearRegression().fit(x, y)"
      ],
      "execution_count": 6,
      "outputs": [
        {
          "output_type": "execute_result",
          "data": {
            "text/plain": [
              "LinearRegression(copy_X=True, fit_intercept=True, n_jobs=None, normalize=False)"
            ]
          },
          "metadata": {},
          "execution_count": 6
        }
      ]
    },
    {
      "cell_type": "code",
      "metadata": {
        "id": "CRzauY4YFr8s",
        "colab": {
          "base_uri": "https://localhost:8080/"
        },
        "outputId": "f10f8f29-6cff-4b76-d8d4-9543a13c8a96"
      },
      "source": [
        "# parameters of the model\n",
        "model.coef_, model.intercept_"
      ],
      "execution_count": 7,
      "outputs": [
        {
          "output_type": "execute_result",
          "data": {
            "text/plain": [
              "(array([0.1]), -50.0)"
            ]
          },
          "metadata": {},
          "execution_count": 7
        }
      ]
    },
    {
      "cell_type": "code",
      "metadata": {
        "id": "JKa7rvbkGJ9R",
        "colab": {
          "base_uri": "https://localhost:8080/"
        },
        "outputId": "d6eb44c9-67f9-42d9-f8d8-1895a6c6816e"
      },
      "source": [
        "# Performance of the model\n",
        "r_sq = model.score(x, y)\n",
        "r_sq"
      ],
      "execution_count": 8,
      "outputs": [
        {
          "output_type": "execute_result",
          "data": {
            "text/plain": [
              "1.0"
            ]
          },
          "metadata": {},
          "execution_count": 8
        }
      ]
    },
    {
      "cell_type": "markdown",
      "metadata": {
        "id": "1fAto19_Gatn"
      },
      "source": [
        "## r_sq = 1.0 은 완벽한 모델을 의미한다.\n",
        "### model : y = a*x + b\n",
        "- y:T\n",
        "- x:V\n",
        "- a = 0.1 (model.coef_)\n",
        "- b = -50 (model.intercept_)\n",
        "\n",
        "> T = 0.1*V - 50\n",
        "> T = (V - 500)/10"
      ]
    },
    {
      "cell_type": "markdown",
      "metadata": {
        "id": "MhemKVvOHT6R"
      },
      "source": [
        "## V와 T의 관계식\n",
        "# T = (V - 500)/10"
      ]
    },
    {
      "cell_type": "markdown",
      "metadata": {
        "id": "4suioCmNI5Gq"
      },
      "source": [
        "## Graph of the regression equation"
      ]
    },
    {
      "cell_type": "code",
      "metadata": {
        "id": "1APFa_5CJazu"
      },
      "source": [
        "def plot_regression_line(x, y, b): \n",
        "    # plotting the actual points as scatter plot \n",
        "    plt.scatter(x, y, color = \"m\", \n",
        "               marker = \"o\", s = 30) \n",
        "  \n",
        "    # predicted response vector \n",
        "    y_pred = b[0] + b[1]*x \n",
        "  \n",
        "    # plotting the regression line \n",
        "    plt.plot(x, y_pred, color = \"g\") \n",
        "  \n",
        "    # putting labels \n",
        "    plt.xlabel('V') \n",
        "    plt.ylabel('T') \n",
        "  \n",
        "    # function to show plot \n",
        "    plt.show() "
      ],
      "execution_count": 9,
      "outputs": []
    },
    {
      "cell_type": "code",
      "metadata": {
        "id": "hqD4sp_BI3dU",
        "colab": {
          "base_uri": "https://localhost:8080/"
        },
        "outputId": "22a8a86b-e889-4e25-88e0-7b39092ee3dd"
      },
      "source": [
        "V = np.array([0, 500, 1000])   # V in mV\n",
        "T = np.array([-50, 0, 50])     # T in C\n",
        "coef = (model.intercept_, model.coef_)\n",
        "print(coef)"
      ],
      "execution_count": 10,
      "outputs": [
        {
          "output_type": "stream",
          "name": "stdout",
          "text": [
            "(-50.0, array([0.1]))\n"
          ]
        }
      ]
    },
    {
      "cell_type": "code",
      "metadata": {
        "id": "HeWHYwXBGYhl",
        "colab": {
          "base_uri": "https://localhost:8080/",
          "height": 279
        },
        "outputId": "e40d797d-3768-4e20-cff7-dcbfdbe501b4"
      },
      "source": [
        "# Graph of the regression \n",
        "import matplotlib.pyplot as plt\n",
        "# plotting regression line \n",
        "plot_regression_line(V, T, coef) \n"
      ],
      "execution_count": 11,
      "outputs": [
        {
          "output_type": "display_data",
          "data": {
            "image/png": "[encoded data removed]",
            "text/plain": [
              "<Figure size 432x288 with 1 Axes>"
            ]
          },
          "metadata": {
            "needs_background": "light"
          }
        }
      ]
    },
    {
      "cell_type": "code",
      "metadata": {
        "id": "PzQMF1p4Irwh"
      },
      "source": [
        ""
      ],
      "execution_count": null,
      "outputs": []
    }
  ]
}