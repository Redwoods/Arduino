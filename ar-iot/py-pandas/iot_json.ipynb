{
  "nbformat": 4,
  "nbformat_minor": 0,
  "metadata": {
    "colab": {
      "name": "iot_json.ipynb",
      "private_outputs": true,
      "provenance": [],
      "collapsed_sections": [],
      "include_colab_link": true
    },
    "kernelspec": {
      "name": "python3",
      "display_name": "Python 3"
    }
  },
  "cells": [
    {
      "cell_type": "markdown",
      "metadata": {
        "id": "view-in-github",
        "colab_type": "text"
      },
      "source": [
        "<a href=\"https://colab.research.google.com/github/Redwoods/Arduino/blob/master/ar-iot/py-pandas/iot_json.ipynb\" target=\"_parent\"><img src=\"https://colab.research.google.com/assets/colab-badge.svg\" alt=\"Open In Colab\"/></a>"
      ]
    },
    {
      "cell_type": "markdown",
      "metadata": {
        "id": "Cd-a94M0f5tL"
      },
      "source": [
        "# MongoDB에 저장된 IoT 데이터 시각화"
      ]
    },
    {
      "cell_type": "markdown",
      "metadata": {
        "id": "oYht3IoGwlyU"
      },
      "source": [
        "## Pandas: access to the remote json from MongoDB\n",
        "- The json file is generated on the fly from the express server of Node.js.\n",
        "- The data retrieved from MongoDB are saved in the json file.\n",
        "- The data are composed of three time series; temperature, humidity, and luminosity wuth date.\n"
      ]
    },
    {
      "cell_type": "code",
      "metadata": {
        "id": "GYezm0oWwlyW"
      },
      "source": [
        "import pandas as pd"
      ],
      "execution_count": null,
      "outputs": []
    },
    {
      "cell_type": "code",
      "metadata": {
        "id": "jguBydRLwlyc"
      },
      "source": [
        "# loading json file from MongoDB via web (CORS, port=3030)\n",
        "url=\"http://life21c.inje.ac.kr:3030/iot\"\n",
        "df=pd.read_json(url)\n",
        "print('Large data was retrieved successfully from MongoDB!')"
      ],
      "execution_count": null,
      "outputs": []
    },
    {
      "cell_type": "code",
      "metadata": {
        "id": "f9jQ2mEQ14BD"
      },
      "source": [
        "df.shape, type(df)"
      ],
      "execution_count": null,
      "outputs": []
    },
    {
      "cell_type": "code",
      "metadata": {
        "id": "ATXd9T04wlyg"
      },
      "source": [
        "df.head()"
      ],
      "execution_count": null,
      "outputs": []
    },
    {
      "cell_type": "code",
      "metadata": {
        "id": "Qz0XxhI4wlyn"
      },
      "source": [
        "df.tail()"
      ],
      "execution_count": null,
      "outputs": []
    },
    {
      "cell_type": "code",
      "metadata": {
        "id": "Ba7jYmgKwlyx"
      },
      "source": [
        "df.info()"
      ],
      "execution_count": null,
      "outputs": []
    },
    {
      "cell_type": "code",
      "metadata": {
        "id": "6VGEIgiEydOV"
      },
      "source": [
        "df.describe().T"
      ],
      "execution_count": null,
      "outputs": []
    },
    {
      "cell_type": "markdown",
      "metadata": {
        "id": "H5gtQbgCw62w"
      },
      "source": [
        "### Dataframe with date and three sensor values(temperature, humidity, luminosity)"
      ]
    },
    {
      "cell_type": "code",
      "metadata": {
        "id": "wLi8PDa_wly3"
      },
      "source": [
        "iot_data = df[['date', 'temperature', 'humidity', 'luminosity']]"
      ],
      "execution_count": null,
      "outputs": []
    },
    {
      "cell_type": "code",
      "metadata": {
        "id": "NWW0Y_Zswly8"
      },
      "source": [
        "iot_data.shape"
      ],
      "execution_count": null,
      "outputs": []
    },
    {
      "cell_type": "code",
      "metadata": {
        "id": "QrsngVb8wlzA"
      },
      "source": [
        "iot_data.head()  # date와 3 개의 신호를 확인."
      ],
      "execution_count": null,
      "outputs": []
    },
    {
      "cell_type": "code",
      "metadata": {
        "id": "ZI7ggvWpwlzG"
      },
      "source": [
        "iot_data.info()"
      ],
      "execution_count": null,
      "outputs": []
    },
    {
      "cell_type": "code",
      "metadata": {
        "id": "sKH2MLA7lxjh"
      },
      "source": [
        "# Save iot data in csv file.\n",
        "iot_data.to_csv('iot_data_221110.csv')"
      ],
      "execution_count": null,
      "outputs": []
    },
    {
      "cell_type": "code",
      "metadata": {
        "id": "2QB6w7uvuN6R"
      },
      "source": [
        "# Plot boxplot\n",
        "iot_data[['temperature','humidity','luminosity']].plot.box(title='Boxplot of temperature, humidity, and luminosity')\n",
        "# iot_data.loc[:,'temperature':'luminosity'].plot.box(title='Boxplot of temperature, humidity, and luminosity')\n",
        "# iot_data.iloc[:,1:].plot.box(title='Boxplot of temperature, humidity, and luminosity')"
      ],
      "execution_count": null,
      "outputs": []
    },
    {
      "cell_type": "markdown",
      "metadata": {
        "id": "feFqm_ocxRjV"
      },
      "source": [
        "### Plot time series of sensor data"
      ]
    },
    {
      "cell_type": "code",
      "metadata": {
        "id": "AM_CyVjawlzM"
      },
      "source": [
        "iot_data.plot(x='date', y='temperature', figsize=(12,6), title='temperature')"
      ],
      "execution_count": null,
      "outputs": []
    },
    {
      "cell_type": "code",
      "metadata": {
        "id": "SAy74_iEwlzQ"
      },
      "source": [
        "iot_data.plot(x='date', y='humidity', figsize=(12,6), title='humidity')"
      ],
      "execution_count": null,
      "outputs": []
    },
    {
      "cell_type": "code",
      "metadata": {
        "id": "d7kyWhVDwlzW"
      },
      "source": [
        "iot_data.plot(x='date', y='luminosity', figsize=(12,6), title='luminosity')"
      ],
      "execution_count": null,
      "outputs": []
    },
    {
      "cell_type": "markdown",
      "metadata": {
        "id": "4W2OVUXZ0eKc"
      },
      "source": [
        "#### 다중그래프 (multiple fgraphs)"
      ]
    },
    {
      "cell_type": "code",
      "metadata": {
        "id": "7XiF7ghFwlzc"
      },
      "source": [
        "# Plot of ['temperature','humidity']\n",
        "iot_data.plot(x='date', y=['temperature','humidity'], figsize=(12,6), title='temperature and humidity')"
      ],
      "execution_count": null,
      "outputs": []
    },
    {
      "cell_type": "code",
      "metadata": {
        "id": "3tH-ca5Jwlzi"
      },
      "source": [
        "# Plot of ['temperature','humidity','luminosity']\n",
        "iot_data.plot(x='date', y=['temperature','humidity','luminosity'], figsize=(12,6), \n",
        "             title='temperature, humidity, and luminosity')"
      ],
      "execution_count": null,
      "outputs": []
    },
    {
      "cell_type": "markdown",
      "metadata": {
        "id": "6yaOaE05xthv"
      },
      "source": [
        "#### Plot the mean of sensor data"
      ]
    },
    {
      "cell_type": "code",
      "metadata": {
        "id": "455qOpbbwlzp"
      },
      "source": [
        "iot_data[['temperature','humidity','luminosity']].mean()  "
      ],
      "execution_count": null,
      "outputs": []
    },
    {
      "cell_type": "code",
      "metadata": {
        "id": "26ZUc5ULwlzw"
      },
      "source": [
        "iot_data[['temperature','humidity','luminosity']].mean().plot.bar(figsize=(8,6), \n",
        "                                                                  title=\"Mean of temperature, humidity, and luminosity\")"
      ],
      "execution_count": null,
      "outputs": []
    },
    {
      "cell_type": "markdown",
      "metadata": {
        "id": "LxgcWZ2wx6TQ"
      },
      "source": [
        "### Plot the change of sensor data over various time spans.\n",
        "\n",
        "> time span: 60 sec, 1 hour, 1 day, 1 week"
      ]
    },
    {
      "cell_type": "markdown",
      "metadata": {
        "id": "ndt4b_ZTwlz1"
      },
      "source": [
        "#### Set date as index of timestamp"
      ]
    },
    {
      "cell_type": "code",
      "metadata": {
        "id": "V6MpkrDhwlz2"
      },
      "source": [
        "iot_data.set_index('date',inplace=True)"
      ],
      "execution_count": null,
      "outputs": []
    },
    {
      "cell_type": "code",
      "metadata": {
        "id": "gY7QvLKbwlz5"
      },
      "source": [
        "iot_data.info() # timestamp index"
      ],
      "execution_count": null,
      "outputs": []
    },
    {
      "cell_type": "code",
      "metadata": {
        "id": "5fjfDVvhwlz-"
      },
      "source": [
        "iot_data.head()"
      ],
      "execution_count": null,
      "outputs": []
    },
    {
      "cell_type": "code",
      "metadata": {
        "id": "TDkJgBRJwl0D"
      },
      "source": [
        "# Estimate the mean of the iot data for every minute\n",
        "iot_data.resample('60S').mean()"
      ],
      "execution_count": null,
      "outputs": []
    },
    {
      "cell_type": "code",
      "metadata": {
        "id": "pTaucOzzwl0H"
      },
      "source": [
        "#  Plot mean of the iot data per every minute\n",
        "iot_data.resample('60S').mean().plot(figsize=(12,6), \n",
        "                                     title='Minutely change of temperature, humidity, and luminosity')"
      ],
      "execution_count": null,
      "outputs": []
    },
    {
      "cell_type": "code",
      "metadata": {
        "id": "cMHVdg3awl0M"
      },
      "source": [
        "# Estimate the mean of iot data for every hour\n",
        "iot_data.resample('H').mean()  # mean per each hour"
      ],
      "execution_count": null,
      "outputs": []
    },
    {
      "cell_type": "code",
      "metadata": {
        "id": "7zNu8qnxwl0Q"
      },
      "source": [
        "#  Plot mean of the iot data per every hour \n",
        "iot_data.resample('H').mean().plot(figsize=(12,6), \n",
        "                                   title='Hourly change of temperature, humidity, and luminosity', \n",
        "                                   ylim=[0,150])"
      ],
      "execution_count": null,
      "outputs": []
    },
    {
      "cell_type": "code",
      "metadata": {
        "id": "JyLg04APwl0W"
      },
      "source": [
        "# Estimate the mean of iot data for every day\n",
        "iot_data.resample('D').mean()"
      ],
      "execution_count": null,
      "outputs": []
    },
    {
      "cell_type": "code",
      "metadata": {
        "id": "xuIjKqS4wl0b"
      },
      "source": [
        "#  Plot mean of the iot data per every day\n",
        "iot_data.resample('D').mean().plot(kind='bar', #marker='o', ms=6, figsize=(12,6), \n",
        "                                   title='Daily change of temperature, humidity, and luminosity')"
      ],
      "execution_count": null,
      "outputs": []
    },
    {
      "cell_type": "code",
      "metadata": {
        "id": "HtVlVQjtyifN"
      },
      "source": [
        "# Estimate the mean of iot data for every week\n",
        "iot_data.resample('W').mean()"
      ],
      "execution_count": null,
      "outputs": []
    },
    {
      "cell_type": "code",
      "metadata": {
        "id": "-2V_u9mAyo3z"
      },
      "source": [
        "#  Plot mean of the iot data per every week\n",
        "iot_data.resample('W').mean().plot(kind='bar', #marker='o', ms=10, \n",
        "                                   figsize=(12,6), \n",
        "                                   title='Weekly change of temperature, humidity, and luminosity')"
      ],
      "execution_count": null,
      "outputs": []
    },
    {
      "cell_type": "markdown",
      "metadata": {
        "id": "CiIDU0dHwl0h"
      },
      "source": [
        "## 와, Great!"
      ]
    },
    {
      "cell_type": "markdown",
      "metadata": {
        "id": "yBO-7vTu3MQr"
      },
      "source": [
        "---"
      ]
    }
  ]
}