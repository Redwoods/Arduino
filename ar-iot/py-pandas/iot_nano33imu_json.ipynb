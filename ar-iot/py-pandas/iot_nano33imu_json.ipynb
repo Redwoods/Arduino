{
  "nbformat": 4,
  "nbformat_minor": 0,
  "metadata": {
    "colab": {
      "provenance": [],
      "include_colab_link": true
    },
    "kernelspec": {
      "display_name": "Python 3",
      "name": "python3"
    },
    "language_info": {
      "codemirror_mode": {
        "name": "ipython",
        "version": 3
      },
      "file_extension": ".py",
      "mimetype": "text/x-python",
      "name": "python",
      "nbconvert_exporter": "python",
      "pygments_lexer": "ipython3",
      "version": "3.8.5"
    }
  },
  "cells": [
    {
      "cell_type": "markdown",
      "metadata": {
        "id": "view-in-github",
        "colab_type": "text"
      },
      "source": [
        "<a href=\"https://colab.research.google.com/github/Redwoods/Arduino/blob/master/ar-iot/py-pandas/iot_nano33imu_json.ipynb\" target=\"_parent\"><img src=\"https://colab.research.google.com/assets/colab-badge.svg\" alt=\"Open In Colab\"/></a>"
      ]
    },
    {
      "cell_type": "markdown",
      "metadata": {
        "id": "oYht3IoGwlyU"
      },
      "source": [
        "## Pandas: access to the remote json from MongoDB\n",
        "- The json file is generated on the fly from the express server of Node.js.\n",
        "- The data stored in MongoDB are saved in the json file.\n",
        "- The IMU data are composed of nine time series; acceleration, gyroscope, and magnetic field.\n"
      ]
    },
    {
      "cell_type": "code",
      "metadata": {
        "id": "GYezm0oWwlyW"
      },
      "source": [
        "import pandas as pd\n",
        "import numpy as np\n",
        "import matplotlib.pyplot as plt\n",
        "# from matplotlib import animation, rc"
      ],
      "execution_count": null,
      "outputs": []
    },
    {
      "cell_type": "markdown",
      "metadata": {
        "id": "1xQdk1RkeFpY"
      },
      "source": [
        "## [실시간 데이터 로드]\n",
        "- loading real-time json file from MongoDB via web\n",
        "\n",
        "- http://life21c.inje.ac.kr:3030/client_33imu_gauge.html"
      ]
    },
    {
      "cell_type": "code",
      "metadata": {
        "id": "jguBydRLwlyc",
        "colab": {
          "base_uri": "https://localhost:8080/"
        },
        "outputId": "01a34a89-76cd-4d2b-d8bf-9ca02ff29ce4"
      },
      "source": [
        "# loading real-time json file from MongoDB via web (CORS, port=3030)\n",
        "url=\"http://life21c.inje.ac.kr:3030/iot\"\n",
        "df=pd.read_json(url)\n",
        "print('Large IoT data was retrieved successfully from MongoDB!')"
      ],
      "execution_count": null,
      "outputs": [
        {
          "output_type": "stream",
          "name": "stdout",
          "text": [
            "Large IoT data was retrieved successfully from MongoDB!\n"
          ]
        }
      ]
    },
    {
      "cell_type": "code",
      "source": [
        "df.head()"
      ],
      "metadata": {
        "id": "NzUlB5YECVfm",
        "outputId": "6973bd24-ace6-41d9-bc9d-3a9880715b36",
        "colab": {
          "base_uri": "https://localhost:8080/",
          "height": 206
        }
      },
      "execution_count": null,
      "outputs": [
        {
          "output_type": "execute_result",
          "data": {
            "text/plain": [
              "                        _id                    date  accel_x  accel_y  \\\n",
              "0  6387f6a12d6cf8514669c507 2022-12-01 09:34:41.583     0.03    -0.01   \n",
              "1  6387f6a22d6cf8514669c509 2022-12-01 09:34:42.092     0.03    -0.01   \n",
              "2  6387f6a22d6cf8514669c50b 2022-12-01 09:34:42.600     0.03    -0.01   \n",
              "3  6387f6a32d6cf8514669c50d 2022-12-01 09:34:43.109     0.03    -0.01   \n",
              "4  6387f6a32d6cf8514669c50f 2022-12-01 09:34:43.618     0.03    -0.01   \n",
              "\n",
              "   accel_z  gyro_x  gyro_y  gyro_z  mag_x  mag_y  mag_z  __v  \n",
              "0     0.99   -0.37   -3.72   -0.24  -3.47 -10.40 -43.73    0  \n",
              "1     0.99   -0.43   -3.48   -0.31  -2.89 -12.07 -44.97    0  \n",
              "2     0.99   -0.31   -3.72   -0.12  -3.36 -12.07 -45.67    0  \n",
              "3     0.99   -0.37   -3.54   -0.24  -3.52 -11.96 -44.63    0  \n",
              "4     0.99   -0.24   -3.72   -0.18  -3.27 -12.04 -44.25    0  "
            ],
            "text/html": [
              "\n",
              "  <div id=\"df-f6eb9849-224d-4b34-906a-7cff34e77ad5\">\n",
              "    <div class=\"colab-df-container\">\n",
              "      <div>\n",
              "<style scoped>\n",
              "    .dataframe tbody tr th:only-of-type {\n",
              "        vertical-align: middle;\n",
              "    }\n",
              "\n",
              "    .dataframe tbody tr th {\n",
              "        vertical-align: top;\n",
              "    }\n",
              "\n",
              "    .dataframe thead th {\n",
              "        text-align: right;\n",
              "    }\n",
              "</style>\n",
              "<table border=\"1\" class=\"dataframe\">\n",
              "  <thead>\n",
              "    <tr style=\"text-align: right;\">\n",
              "      <th></th>\n",
              "      <th>_id</th>\n",
              "      <th>date</th>\n",
              "      <th>accel_x</th>\n",
              "      <th>accel_y</th>\n",
              "      <th>accel_z</th>\n",
              "      <th>gyro_x</th>\n",
              "      <th>gyro_y</th>\n",
              "      <th>gyro_z</th>\n",
              "      <th>mag_x</th>\n",
              "      <th>mag_y</th>\n",
              "      <th>mag_z</th>\n",
              "      <th>__v</th>\n",
              "    </tr>\n",
              "  </thead>\n",
              "  <tbody>\n",
              "    <tr>\n",
              "      <th>0</th>\n",
              "      <td>6387f6a12d6cf8514669c507</td>\n",
              "      <td>2022-12-01 09:34:41.583</td>\n",
              "      <td>0.03</td>\n",
              "      <td>-0.01</td>\n",
              "      <td>0.99</td>\n",
              "      <td>-0.37</td>\n",
              "      <td>-3.72</td>\n",
              "      <td>-0.24</td>\n",
              "      <td>-3.47</td>\n",
              "      <td>-10.40</td>\n",
              "      <td>-43.73</td>\n",
              "      <td>0</td>\n",
              "    </tr>\n",
              "    <tr>\n",
              "      <th>1</th>\n",
              "      <td>6387f6a22d6cf8514669c509</td>\n",
              "      <td>2022-12-01 09:34:42.092</td>\n",
              "      <td>0.03</td>\n",
              "      <td>-0.01</td>\n",
              "      <td>0.99</td>\n",
              "      <td>-0.43</td>\n",
              "      <td>-3.48</td>\n",
              "      <td>-0.31</td>\n",
              "      <td>-2.89</td>\n",
              "      <td>-12.07</td>\n",
              "      <td>-44.97</td>\n",
              "      <td>0</td>\n",
              "    </tr>\n",
              "    <tr>\n",
              "      <th>2</th>\n",
              "      <td>6387f6a22d6cf8514669c50b</td>\n",
              "      <td>2022-12-01 09:34:42.600</td>\n",
              "      <td>0.03</td>\n",
              "      <td>-0.01</td>\n",
              "      <td>0.99</td>\n",
              "      <td>-0.31</td>\n",
              "      <td>-3.72</td>\n",
              "      <td>-0.12</td>\n",
              "      <td>-3.36</td>\n",
              "      <td>-12.07</td>\n",
              "      <td>-45.67</td>\n",
              "      <td>0</td>\n",
              "    </tr>\n",
              "    <tr>\n",
              "      <th>3</th>\n",
              "      <td>6387f6a32d6cf8514669c50d</td>\n",
              "      <td>2022-12-01 09:34:43.109</td>\n",
              "      <td>0.03</td>\n",
              "      <td>-0.01</td>\n",
              "      <td>0.99</td>\n",
              "      <td>-0.37</td>\n",
              "      <td>-3.54</td>\n",
              "      <td>-0.24</td>\n",
              "      <td>-3.52</td>\n",
              "      <td>-11.96</td>\n",
              "      <td>-44.63</td>\n",
              "      <td>0</td>\n",
              "    </tr>\n",
              "    <tr>\n",
              "      <th>4</th>\n",
              "      <td>6387f6a32d6cf8514669c50f</td>\n",
              "      <td>2022-12-01 09:34:43.618</td>\n",
              "      <td>0.03</td>\n",
              "      <td>-0.01</td>\n",
              "      <td>0.99</td>\n",
              "      <td>-0.24</td>\n",
              "      <td>-3.72</td>\n",
              "      <td>-0.18</td>\n",
              "      <td>-3.27</td>\n",
              "      <td>-12.04</td>\n",
              "      <td>-44.25</td>\n",
              "      <td>0</td>\n",
              "    </tr>\n",
              "  </tbody>\n",
              "</table>\n",
              "</div>\n",
              "      <button class=\"colab-df-convert\" onclick=\"convertToInteractive('df-f6eb9849-224d-4b34-906a-7cff34e77ad5')\"\n",
              "              title=\"Convert this dataframe to an interactive table.\"\n",
              "              style=\"display:none;\">\n",
              "        \n",
              "  <svg xmlns=\"http://www.w3.org/2000/svg\" height=\"24px\"viewBox=\"0 0 24 24\"\n",
              "       width=\"24px\">\n",
              "    <path d=\"M0 0h24v24H0V0z\" fill=\"none\"/>\n",
              "    <path d=\"M18.56 5.44l.94 2.06.94-2.06 2.06-.94-2.06-.94-.94-2.06-.94 2.06-2.06.94zm-11 1L8.5 8.5l.94-2.06 2.06-.94-2.06-.94L8.5 2.5l-.94 2.06-2.06.94zm10 10l.94 2.06.94-2.06 2.06-.94-2.06-.94-.94-2.06-.94 2.06-2.06.94z\"/><path d=\"M17.41 7.96l-1.37-1.37c-.4-.4-.92-.59-1.43-.59-.52 0-1.04.2-1.43.59L10.3 9.45l-7.72 7.72c-.78.78-.78 2.05 0 2.83L4 21.41c.39.39.9.59 1.41.59.51 0 1.02-.2 1.41-.59l7.78-7.78 2.81-2.81c.8-.78.8-2.07 0-2.86zM5.41 20L4 18.59l7.72-7.72 1.47 1.35L5.41 20z\"/>\n",
              "  </svg>\n",
              "      </button>\n",
              "      \n",
              "  <style>\n",
              "    .colab-df-container {\n",
              "      display:flex;\n",
              "      flex-wrap:wrap;\n",
              "      gap: 12px;\n",
              "    }\n",
              "\n",
              "    .colab-df-convert {\n",
              "      background-color: #E8F0FE;\n",
              "      border: none;\n",
              "      border-radius: 50%;\n",
              "      cursor: pointer;\n",
              "      display: none;\n",
              "      fill: #1967D2;\n",
              "      height: 32px;\n",
              "      padding: 0 0 0 0;\n",
              "      width: 32px;\n",
              "    }\n",
              "\n",
              "    .colab-df-convert:hover {\n",
              "      background-color: #E2EBFA;\n",
              "      box-shadow: 0px 1px 2px rgba(60, 64, 67, 0.3), 0px 1px 3px 1px rgba(60, 64, 67, 0.15);\n",
              "      fill: #174EA6;\n",
              "    }\n",
              "\n",
              "    [theme=dark] .colab-df-convert {\n",
              "      background-color: #3B4455;\n",
              "      fill: #D2E3FC;\n",
              "    }\n",
              "\n",
              "    [theme=dark] .colab-df-convert:hover {\n",
              "      background-color: #434B5C;\n",
              "      box-shadow: 0px 1px 3px 1px rgba(0, 0, 0, 0.15);\n",
              "      filter: drop-shadow(0px 1px 2px rgba(0, 0, 0, 0.3));\n",
              "      fill: #FFFFFF;\n",
              "    }\n",
              "  </style>\n",
              "\n",
              "      <script>\n",
              "        const buttonEl =\n",
              "          document.querySelector('#df-f6eb9849-224d-4b34-906a-7cff34e77ad5 button.colab-df-convert');\n",
              "        buttonEl.style.display =\n",
              "          google.colab.kernel.accessAllowed ? 'block' : 'none';\n",
              "\n",
              "        async function convertToInteractive(key) {\n",
              "          const element = document.querySelector('#df-f6eb9849-224d-4b34-906a-7cff34e77ad5');\n",
              "          const dataTable =\n",
              "            await google.colab.kernel.invokeFunction('convertToInteractive',\n",
              "                                                     [key], {});\n",
              "          if (!dataTable) return;\n",
              "\n",
              "          const docLinkHtml = 'Like what you see? Visit the ' +\n",
              "            '<a target=\"_blank\" href=https://colab.research.google.com/notebooks/data_table.ipynb>data table notebook</a>'\n",
              "            + ' to learn more about interactive tables.';\n",
              "          element.innerHTML = '';\n",
              "          dataTable['output_type'] = 'display_data';\n",
              "          await google.colab.output.renderOutput(dataTable, element);\n",
              "          const docLink = document.createElement('div');\n",
              "          docLink.innerHTML = docLinkHtml;\n",
              "          element.appendChild(docLink);\n",
              "        }\n",
              "      </script>\n",
              "    </div>\n",
              "  </div>\n",
              "  "
            ]
          },
          "metadata": {},
          "execution_count": 3
        }
      ]
    },
    {
      "cell_type": "code",
      "metadata": {
        "colab": {
          "base_uri": "https://localhost:8080/",
          "height": 206
        },
        "id": "Qz0XxhI4wlyn",
        "outputId": "ff2df96b-a437-48c5-81f2-3b8c4da82afa"
      },
      "source": [
        "df.tail()"
      ],
      "execution_count": null,
      "outputs": [
        {
          "output_type": "execute_result",
          "data": {
            "text/plain": [
              "                            _id                    date  accel_x  accel_y  \\\n",
              "39560  6399c5db08fb85aa880a33d1 2022-12-14 21:47:23.088     0.03    -0.01   \n",
              "39561  6399c5db08fb85aa880a33d3 2022-12-14 21:47:23.597     0.03    -0.01   \n",
              "39562  6399c5dc08fb85aa880a33d5 2022-12-14 21:47:24.106     0.03    -0.01   \n",
              "39563  6399c5dc08fb85aa880a33d7 2022-12-14 21:47:24.615     0.03    -0.01   \n",
              "39564  6399c5dd08fb85aa880a33d9 2022-12-14 21:47:25.124     0.03    -0.01   \n",
              "\n",
              "       accel_z  gyro_x  gyro_y  gyro_z  mag_x  mag_y  mag_z  __v  \n",
              "39560     0.99   -0.37   -3.91   -0.43 -19.91  22.81 -40.10    0  \n",
              "39561     0.99   -0.37   -3.85   -0.55 -19.43  22.99 -40.10    0  \n",
              "39562     0.99   -0.43   -3.85   -0.49 -19.23  22.85 -41.36    0  \n",
              "39563     0.99   -0.24   -3.97   -0.31 -19.24  22.30 -40.58    0  \n",
              "39564     0.99   -0.31   -3.97   -0.43 -19.13  22.62 -40.98    0  "
            ],
            "text/html": [
              "\n",
              "  <div id=\"df-dc59e45a-8b43-44e7-9271-967a8823e582\">\n",
              "    <div class=\"colab-df-container\">\n",
              "      <div>\n",
              "<style scoped>\n",
              "    .dataframe tbody tr th:only-of-type {\n",
              "        vertical-align: middle;\n",
              "    }\n",
              "\n",
              "    .dataframe tbody tr th {\n",
              "        vertical-align: top;\n",
              "    }\n",
              "\n",
              "    .dataframe thead th {\n",
              "        text-align: right;\n",
              "    }\n",
              "</style>\n",
              "<table border=\"1\" class=\"dataframe\">\n",
              "  <thead>\n",
              "    <tr style=\"text-align: right;\">\n",
              "      <th></th>\n",
              "      <th>_id</th>\n",
              "      <th>date</th>\n",
              "      <th>accel_x</th>\n",
              "      <th>accel_y</th>\n",
              "      <th>accel_z</th>\n",
              "      <th>gyro_x</th>\n",
              "      <th>gyro_y</th>\n",
              "      <th>gyro_z</th>\n",
              "      <th>mag_x</th>\n",
              "      <th>mag_y</th>\n",
              "      <th>mag_z</th>\n",
              "      <th>__v</th>\n",
              "    </tr>\n",
              "  </thead>\n",
              "  <tbody>\n",
              "    <tr>\n",
              "      <th>39560</th>\n",
              "      <td>6399c5db08fb85aa880a33d1</td>\n",
              "      <td>2022-12-14 21:47:23.088</td>\n",
              "      <td>0.03</td>\n",
              "      <td>-0.01</td>\n",
              "      <td>0.99</td>\n",
              "      <td>-0.37</td>\n",
              "      <td>-3.91</td>\n",
              "      <td>-0.43</td>\n",
              "      <td>-19.91</td>\n",
              "      <td>22.81</td>\n",
              "      <td>-40.10</td>\n",
              "      <td>0</td>\n",
              "    </tr>\n",
              "    <tr>\n",
              "      <th>39561</th>\n",
              "      <td>6399c5db08fb85aa880a33d3</td>\n",
              "      <td>2022-12-14 21:47:23.597</td>\n",
              "      <td>0.03</td>\n",
              "      <td>-0.01</td>\n",
              "      <td>0.99</td>\n",
              "      <td>-0.37</td>\n",
              "      <td>-3.85</td>\n",
              "      <td>-0.55</td>\n",
              "      <td>-19.43</td>\n",
              "      <td>22.99</td>\n",
              "      <td>-40.10</td>\n",
              "      <td>0</td>\n",
              "    </tr>\n",
              "    <tr>\n",
              "      <th>39562</th>\n",
              "      <td>6399c5dc08fb85aa880a33d5</td>\n",
              "      <td>2022-12-14 21:47:24.106</td>\n",
              "      <td>0.03</td>\n",
              "      <td>-0.01</td>\n",
              "      <td>0.99</td>\n",
              "      <td>-0.43</td>\n",
              "      <td>-3.85</td>\n",
              "      <td>-0.49</td>\n",
              "      <td>-19.23</td>\n",
              "      <td>22.85</td>\n",
              "      <td>-41.36</td>\n",
              "      <td>0</td>\n",
              "    </tr>\n",
              "    <tr>\n",
              "      <th>39563</th>\n",
              "      <td>6399c5dc08fb85aa880a33d7</td>\n",
              "      <td>2022-12-14 21:47:24.615</td>\n",
              "      <td>0.03</td>\n",
              "      <td>-0.01</td>\n",
              "      <td>0.99</td>\n",
              "      <td>-0.24</td>\n",
              "      <td>-3.97</td>\n",
              "      <td>-0.31</td>\n",
              "      <td>-19.24</td>\n",
              "      <td>22.30</td>\n",
              "      <td>-40.58</td>\n",
              "      <td>0</td>\n",
              "    </tr>\n",
              "    <tr>\n",
              "      <th>39564</th>\n",
              "      <td>6399c5dd08fb85aa880a33d9</td>\n",
              "      <td>2022-12-14 21:47:25.124</td>\n",
              "      <td>0.03</td>\n",
              "      <td>-0.01</td>\n",
              "      <td>0.99</td>\n",
              "      <td>-0.31</td>\n",
              "      <td>-3.97</td>\n",
              "      <td>-0.43</td>\n",
              "      <td>-19.13</td>\n",
              "      <td>22.62</td>\n",
              "      <td>-40.98</td>\n",
              "      <td>0</td>\n",
              "    </tr>\n",
              "  </tbody>\n",
              "</table>\n",
              "</div>\n",
              "      <button class=\"colab-df-convert\" onclick=\"convertToInteractive('df-dc59e45a-8b43-44e7-9271-967a8823e582')\"\n",
              "              title=\"Convert this dataframe to an interactive table.\"\n",
              "              style=\"display:none;\">\n",
              "        \n",
              "  <svg xmlns=\"http://www.w3.org/2000/svg\" height=\"24px\"viewBox=\"0 0 24 24\"\n",
              "       width=\"24px\">\n",
              "    <path d=\"M0 0h24v24H0V0z\" fill=\"none\"/>\n",
              "    <path d=\"M18.56 5.44l.94 2.06.94-2.06 2.06-.94-2.06-.94-.94-2.06-.94 2.06-2.06.94zm-11 1L8.5 8.5l.94-2.06 2.06-.94-2.06-.94L8.5 2.5l-.94 2.06-2.06.94zm10 10l.94 2.06.94-2.06 2.06-.94-2.06-.94-.94-2.06-.94 2.06-2.06.94z\"/><path d=\"M17.41 7.96l-1.37-1.37c-.4-.4-.92-.59-1.43-.59-.52 0-1.04.2-1.43.59L10.3 9.45l-7.72 7.72c-.78.78-.78 2.05 0 2.83L4 21.41c.39.39.9.59 1.41.59.51 0 1.02-.2 1.41-.59l7.78-7.78 2.81-2.81c.8-.78.8-2.07 0-2.86zM5.41 20L4 18.59l7.72-7.72 1.47 1.35L5.41 20z\"/>\n",
              "  </svg>\n",
              "      </button>\n",
              "      \n",
              "  <style>\n",
              "    .colab-df-container {\n",
              "      display:flex;\n",
              "      flex-wrap:wrap;\n",
              "      gap: 12px;\n",
              "    }\n",
              "\n",
              "    .colab-df-convert {\n",
              "      background-color: #E8F0FE;\n",
              "      border: none;\n",
              "      border-radius: 50%;\n",
              "      cursor: pointer;\n",
              "      display: none;\n",
              "      fill: #1967D2;\n",
              "      height: 32px;\n",
              "      padding: 0 0 0 0;\n",
              "      width: 32px;\n",
              "    }\n",
              "\n",
              "    .colab-df-convert:hover {\n",
              "      background-color: #E2EBFA;\n",
              "      box-shadow: 0px 1px 2px rgba(60, 64, 67, 0.3), 0px 1px 3px 1px rgba(60, 64, 67, 0.15);\n",
              "      fill: #174EA6;\n",
              "    }\n",
              "\n",
              "    [theme=dark] .colab-df-convert {\n",
              "      background-color: #3B4455;\n",
              "      fill: #D2E3FC;\n",
              "    }\n",
              "\n",
              "    [theme=dark] .colab-df-convert:hover {\n",
              "      background-color: #434B5C;\n",
              "      box-shadow: 0px 1px 3px 1px rgba(0, 0, 0, 0.15);\n",
              "      filter: drop-shadow(0px 1px 2px rgba(0, 0, 0, 0.3));\n",
              "      fill: #FFFFFF;\n",
              "    }\n",
              "  </style>\n",
              "\n",
              "      <script>\n",
              "        const buttonEl =\n",
              "          document.querySelector('#df-dc59e45a-8b43-44e7-9271-967a8823e582 button.colab-df-convert');\n",
              "        buttonEl.style.display =\n",
              "          google.colab.kernel.accessAllowed ? 'block' : 'none';\n",
              "\n",
              "        async function convertToInteractive(key) {\n",
              "          const element = document.querySelector('#df-dc59e45a-8b43-44e7-9271-967a8823e582');\n",
              "          const dataTable =\n",
              "            await google.colab.kernel.invokeFunction('convertToInteractive',\n",
              "                                                     [key], {});\n",
              "          if (!dataTable) return;\n",
              "\n",
              "          const docLinkHtml = 'Like what you see? Visit the ' +\n",
              "            '<a target=\"_blank\" href=https://colab.research.google.com/notebooks/data_table.ipynb>data table notebook</a>'\n",
              "            + ' to learn more about interactive tables.';\n",
              "          element.innerHTML = '';\n",
              "          dataTable['output_type'] = 'display_data';\n",
              "          await google.colab.output.renderOutput(dataTable, element);\n",
              "          const docLink = document.createElement('div');\n",
              "          docLink.innerHTML = docLinkHtml;\n",
              "          element.appendChild(docLink);\n",
              "        }\n",
              "      </script>\n",
              "    </div>\n",
              "  </div>\n",
              "  "
            ]
          },
          "metadata": {},
          "execution_count": 4
        }
      ]
    },
    {
      "cell_type": "code",
      "metadata": {
        "colab": {
          "base_uri": "https://localhost:8080/"
        },
        "id": "xu5T5omfwlys",
        "outputId": "027efa46-9b28-4771-8e23-878803c6ad11"
      },
      "source": [
        "df.shape, type(df)"
      ],
      "execution_count": null,
      "outputs": [
        {
          "output_type": "execute_result",
          "data": {
            "text/plain": [
              "((39565, 12), pandas.core.frame.DataFrame)"
            ]
          },
          "metadata": {},
          "execution_count": 5
        }
      ]
    },
    {
      "cell_type": "code",
      "metadata": {
        "colab": {
          "base_uri": "https://localhost:8080/"
        },
        "id": "IGr_hz20Il9L",
        "outputId": "8eafc6af-6bd7-486c-e726-6c8018173051"
      },
      "source": [
        "df['date'][:1],df['date'][-1:]"
      ],
      "execution_count": null,
      "outputs": [
        {
          "output_type": "execute_result",
          "data": {
            "text/plain": [
              "(0   2022-12-01 09:34:41.583\n",
              " Name: date, dtype: datetime64[ns], 39564   2022-12-14 21:47:25.124\n",
              " Name: date, dtype: datetime64[ns])"
            ]
          },
          "metadata": {},
          "execution_count": 6
        }
      ]
    },
    {
      "cell_type": "code",
      "metadata": {
        "colab": {
          "base_uri": "https://localhost:8080/"
        },
        "id": "Ba7jYmgKwlyx",
        "outputId": "c01eba0d-f099-4105-b980-26f353656d82"
      },
      "source": [
        "df.info()"
      ],
      "execution_count": null,
      "outputs": [
        {
          "output_type": "stream",
          "name": "stdout",
          "text": [
            "<class 'pandas.core.frame.DataFrame'>\n",
            "RangeIndex: 39565 entries, 0 to 39564\n",
            "Data columns (total 12 columns):\n",
            " #   Column   Non-Null Count  Dtype         \n",
            "---  ------   --------------  -----         \n",
            " 0   _id      39565 non-null  object        \n",
            " 1   date     39565 non-null  datetime64[ns]\n",
            " 2   accel_x  39565 non-null  float64       \n",
            " 3   accel_y  39565 non-null  float64       \n",
            " 4   accel_z  39565 non-null  float64       \n",
            " 5   gyro_x   39565 non-null  float64       \n",
            " 6   gyro_y   39565 non-null  float64       \n",
            " 7   gyro_z   39565 non-null  float64       \n",
            " 8   mag_x    39565 non-null  float64       \n",
            " 9   mag_y    39565 non-null  float64       \n",
            " 10  mag_z    39565 non-null  float64       \n",
            " 11  __v      39565 non-null  int64         \n",
            "dtypes: datetime64[ns](1), float64(9), int64(1), object(1)\n",
            "memory usage: 3.6+ MB\n"
          ]
        }
      ]
    },
    {
      "cell_type": "code",
      "metadata": {
        "colab": {
          "base_uri": "https://localhost:8080/",
          "height": 300
        },
        "id": "6VGEIgiEydOV",
        "outputId": "1c01ffb9-6b7f-4849-9354-19424825a808"
      },
      "source": [
        "df.describe()"
      ],
      "execution_count": null,
      "outputs": [
        {
          "output_type": "execute_result",
          "data": {
            "text/plain": [
              "            accel_x       accel_y       accel_z        gyro_x        gyro_y  \\\n",
              "count  39565.000000  39565.000000  39565.000000  39565.000000  39565.000000   \n",
              "mean       0.025349     -0.006836      0.986553     -0.307091     -3.787223   \n",
              "std        0.037327      0.050886      0.067234      5.260644      7.765598   \n",
              "min       -1.010000     -1.570000     -2.390000   -241.030000   -255.980000   \n",
              "25%        0.020000     -0.010000      0.990000     -0.430000     -3.910000   \n",
              "50%        0.020000      0.000000      0.990000     -0.370000     -3.850000   \n",
              "75%        0.030000      0.000000      0.990000     -0.310000     -3.720000   \n",
              "max        1.450000      0.900000      2.020000    353.640000    348.080000   \n",
              "\n",
              "             gyro_z         mag_x         mag_y         mag_z      __v  \n",
              "count  39565.000000  39565.000000  39565.000000  39565.000000  39565.0  \n",
              "mean      -0.348654    -10.616948      1.716596    -40.236004      0.0  \n",
              "std        7.104641      7.862221     15.664196      1.695420      0.0  \n",
              "min     -213.200000    -30.220000    -17.800000    -50.340000      0.0  \n",
              "25%       -0.430000    -19.290000    -11.230000    -40.760000      0.0  \n",
              "50%       -0.370000     -4.570000    -10.520000    -40.310000      0.0  \n",
              "75%       -0.310000     -4.040000     22.140000    -39.860000      0.0  \n",
              "max      325.010000     34.030000     43.590000     26.290000      0.0  "
            ],
            "text/html": [
              "\n",
              "  <div id=\"df-46386403-a493-4248-b268-9e193a71d50d\">\n",
              "    <div class=\"colab-df-container\">\n",
              "      <div>\n",
              "<style scoped>\n",
              "    .dataframe tbody tr th:only-of-type {\n",
              "        vertical-align: middle;\n",
              "    }\n",
              "\n",
              "    .dataframe tbody tr th {\n",
              "        vertical-align: top;\n",
              "    }\n",
              "\n",
              "    .dataframe thead th {\n",
              "        text-align: right;\n",
              "    }\n",
              "</style>\n",
              "<table border=\"1\" class=\"dataframe\">\n",
              "  <thead>\n",
              "    <tr style=\"text-align: right;\">\n",
              "      <th></th>\n",
              "      <th>accel_x</th>\n",
              "      <th>accel_y</th>\n",
              "      <th>accel_z</th>\n",
              "      <th>gyro_x</th>\n",
              "      <th>gyro_y</th>\n",
              "      <th>gyro_z</th>\n",
              "      <th>mag_x</th>\n",
              "      <th>mag_y</th>\n",
              "      <th>mag_z</th>\n",
              "      <th>__v</th>\n",
              "    </tr>\n",
              "  </thead>\n",
              "  <tbody>\n",
              "    <tr>\n",
              "      <th>count</th>\n",
              "      <td>39565.000000</td>\n",
              "      <td>39565.000000</td>\n",
              "      <td>39565.000000</td>\n",
              "      <td>39565.000000</td>\n",
              "      <td>39565.000000</td>\n",
              "      <td>39565.000000</td>\n",
              "      <td>39565.000000</td>\n",
              "      <td>39565.000000</td>\n",
              "      <td>39565.000000</td>\n",
              "      <td>39565.0</td>\n",
              "    </tr>\n",
              "    <tr>\n",
              "      <th>mean</th>\n",
              "      <td>0.025349</td>\n",
              "      <td>-0.006836</td>\n",
              "      <td>0.986553</td>\n",
              "      <td>-0.307091</td>\n",
              "      <td>-3.787223</td>\n",
              "      <td>-0.348654</td>\n",
              "      <td>-10.616948</td>\n",
              "      <td>1.716596</td>\n",
              "      <td>-40.236004</td>\n",
              "      <td>0.0</td>\n",
              "    </tr>\n",
              "    <tr>\n",
              "      <th>std</th>\n",
              "      <td>0.037327</td>\n",
              "      <td>0.050886</td>\n",
              "      <td>0.067234</td>\n",
              "      <td>5.260644</td>\n",
              "      <td>7.765598</td>\n",
              "      <td>7.104641</td>\n",
              "      <td>7.862221</td>\n",
              "      <td>15.664196</td>\n",
              "      <td>1.695420</td>\n",
              "      <td>0.0</td>\n",
              "    </tr>\n",
              "    <tr>\n",
              "      <th>min</th>\n",
              "      <td>-1.010000</td>\n",
              "      <td>-1.570000</td>\n",
              "      <td>-2.390000</td>\n",
              "      <td>-241.030000</td>\n",
              "      <td>-255.980000</td>\n",
              "      <td>-213.200000</td>\n",
              "      <td>-30.220000</td>\n",
              "      <td>-17.800000</td>\n",
              "      <td>-50.340000</td>\n",
              "      <td>0.0</td>\n",
              "    </tr>\n",
              "    <tr>\n",
              "      <th>25%</th>\n",
              "      <td>0.020000</td>\n",
              "      <td>-0.010000</td>\n",
              "      <td>0.990000</td>\n",
              "      <td>-0.430000</td>\n",
              "      <td>-3.910000</td>\n",
              "      <td>-0.430000</td>\n",
              "      <td>-19.290000</td>\n",
              "      <td>-11.230000</td>\n",
              "      <td>-40.760000</td>\n",
              "      <td>0.0</td>\n",
              "    </tr>\n",
              "    <tr>\n",
              "      <th>50%</th>\n",
              "      <td>0.020000</td>\n",
              "      <td>0.000000</td>\n",
              "      <td>0.990000</td>\n",
              "      <td>-0.370000</td>\n",
              "      <td>-3.850000</td>\n",
              "      <td>-0.370000</td>\n",
              "      <td>-4.570000</td>\n",
              "      <td>-10.520000</td>\n",
              "      <td>-40.310000</td>\n",
              "      <td>0.0</td>\n",
              "    </tr>\n",
              "    <tr>\n",
              "      <th>75%</th>\n",
              "      <td>0.030000</td>\n",
              "      <td>0.000000</td>\n",
              "      <td>0.990000</td>\n",
              "      <td>-0.310000</td>\n",
              "      <td>-3.720000</td>\n",
              "      <td>-0.310000</td>\n",
              "      <td>-4.040000</td>\n",
              "      <td>22.140000</td>\n",
              "      <td>-39.860000</td>\n",
              "      <td>0.0</td>\n",
              "    </tr>\n",
              "    <tr>\n",
              "      <th>max</th>\n",
              "      <td>1.450000</td>\n",
              "      <td>0.900000</td>\n",
              "      <td>2.020000</td>\n",
              "      <td>353.640000</td>\n",
              "      <td>348.080000</td>\n",
              "      <td>325.010000</td>\n",
              "      <td>34.030000</td>\n",
              "      <td>43.590000</td>\n",
              "      <td>26.290000</td>\n",
              "      <td>0.0</td>\n",
              "    </tr>\n",
              "  </tbody>\n",
              "</table>\n",
              "</div>\n",
              "      <button class=\"colab-df-convert\" onclick=\"convertToInteractive('df-46386403-a493-4248-b268-9e193a71d50d')\"\n",
              "              title=\"Convert this dataframe to an interactive table.\"\n",
              "              style=\"display:none;\">\n",
              "        \n",
              "  <svg xmlns=\"http://www.w3.org/2000/svg\" height=\"24px\"viewBox=\"0 0 24 24\"\n",
              "       width=\"24px\">\n",
              "    <path d=\"M0 0h24v24H0V0z\" fill=\"none\"/>\n",
              "    <path d=\"M18.56 5.44l.94 2.06.94-2.06 2.06-.94-2.06-.94-.94-2.06-.94 2.06-2.06.94zm-11 1L8.5 8.5l.94-2.06 2.06-.94-2.06-.94L8.5 2.5l-.94 2.06-2.06.94zm10 10l.94 2.06.94-2.06 2.06-.94-2.06-.94-.94-2.06-.94 2.06-2.06.94z\"/><path d=\"M17.41 7.96l-1.37-1.37c-.4-.4-.92-.59-1.43-.59-.52 0-1.04.2-1.43.59L10.3 9.45l-7.72 7.72c-.78.78-.78 2.05 0 2.83L4 21.41c.39.39.9.59 1.41.59.51 0 1.02-.2 1.41-.59l7.78-7.78 2.81-2.81c.8-.78.8-2.07 0-2.86zM5.41 20L4 18.59l7.72-7.72 1.47 1.35L5.41 20z\"/>\n",
              "  </svg>\n",
              "      </button>\n",
              "      \n",
              "  <style>\n",
              "    .colab-df-container {\n",
              "      display:flex;\n",
              "      flex-wrap:wrap;\n",
              "      gap: 12px;\n",
              "    }\n",
              "\n",
              "    .colab-df-convert {\n",
              "      background-color: #E8F0FE;\n",
              "      border: none;\n",
              "      border-radius: 50%;\n",
              "      cursor: pointer;\n",
              "      display: none;\n",
              "      fill: #1967D2;\n",
              "      height: 32px;\n",
              "      padding: 0 0 0 0;\n",
              "      width: 32px;\n",
              "    }\n",
              "\n",
              "    .colab-df-convert:hover {\n",
              "      background-color: #E2EBFA;\n",
              "      box-shadow: 0px 1px 2px rgba(60, 64, 67, 0.3), 0px 1px 3px 1px rgba(60, 64, 67, 0.15);\n",
              "      fill: #174EA6;\n",
              "    }\n",
              "\n",
              "    [theme=dark] .colab-df-convert {\n",
              "      background-color: #3B4455;\n",
              "      fill: #D2E3FC;\n",
              "    }\n",
              "\n",
              "    [theme=dark] .colab-df-convert:hover {\n",
              "      background-color: #434B5C;\n",
              "      box-shadow: 0px 1px 3px 1px rgba(0, 0, 0, 0.15);\n",
              "      filter: drop-shadow(0px 1px 2px rgba(0, 0, 0, 0.3));\n",
              "      fill: #FFFFFF;\n",
              "    }\n",
              "  </style>\n",
              "\n",
              "      <script>\n",
              "        const buttonEl =\n",
              "          document.querySelector('#df-46386403-a493-4248-b268-9e193a71d50d button.colab-df-convert');\n",
              "        buttonEl.style.display =\n",
              "          google.colab.kernel.accessAllowed ? 'block' : 'none';\n",
              "\n",
              "        async function convertToInteractive(key) {\n",
              "          const element = document.querySelector('#df-46386403-a493-4248-b268-9e193a71d50d');\n",
              "          const dataTable =\n",
              "            await google.colab.kernel.invokeFunction('convertToInteractive',\n",
              "                                                     [key], {});\n",
              "          if (!dataTable) return;\n",
              "\n",
              "          const docLinkHtml = 'Like what you see? Visit the ' +\n",
              "            '<a target=\"_blank\" href=https://colab.research.google.com/notebooks/data_table.ipynb>data table notebook</a>'\n",
              "            + ' to learn more about interactive tables.';\n",
              "          element.innerHTML = '';\n",
              "          dataTable['output_type'] = 'display_data';\n",
              "          await google.colab.output.renderOutput(dataTable, element);\n",
              "          const docLink = document.createElement('div');\n",
              "          docLink.innerHTML = docLinkHtml;\n",
              "          element.appendChild(docLink);\n",
              "        }\n",
              "      </script>\n",
              "    </div>\n",
              "  </div>\n",
              "  "
            ]
          },
          "metadata": {},
          "execution_count": 8
        }
      ]
    },
    {
      "cell_type": "markdown",
      "metadata": {
        "id": "g9Z8adSvNEp_"
      },
      "source": [
        "## Check data\n",
        "- NaN\n",
        "- missing value"
      ]
    },
    {
      "cell_type": "code",
      "metadata": {
        "colab": {
          "base_uri": "https://localhost:8080/"
        },
        "id": "c35w4k5fNJRI",
        "outputId": "ba9ead2c-481e-4046-ee71-2517b231318c"
      },
      "source": [
        "df.isnull().sum() #/df.shape[0]*100"
      ],
      "execution_count": null,
      "outputs": [
        {
          "output_type": "execute_result",
          "data": {
            "text/plain": [
              "_id        0\n",
              "date       0\n",
              "accel_x    0\n",
              "accel_y    0\n",
              "accel_z    0\n",
              "gyro_x     0\n",
              "gyro_y     0\n",
              "gyro_z     0\n",
              "mag_x      0\n",
              "mag_y      0\n",
              "mag_z      0\n",
              "__v        0\n",
              "dtype: int64"
            ]
          },
          "metadata": {},
          "execution_count": 9
        }
      ]
    },
    {
      "cell_type": "code",
      "metadata": {
        "colab": {
          "base_uri": "https://localhost:8080/"
        },
        "id": "V6txumYNbERU",
        "outputId": "46d2dd9f-f2af-4474-d7c5-5f1bf4cbc7f8"
      },
      "source": [
        "df.isna().sum()"
      ],
      "execution_count": null,
      "outputs": [
        {
          "output_type": "execute_result",
          "data": {
            "text/plain": [
              "_id        0\n",
              "date       0\n",
              "accel_x    0\n",
              "accel_y    0\n",
              "accel_z    0\n",
              "gyro_x     0\n",
              "gyro_y     0\n",
              "gyro_z     0\n",
              "mag_x      0\n",
              "mag_y      0\n",
              "mag_z      0\n",
              "__v        0\n",
              "dtype: int64"
            ]
          },
          "metadata": {},
          "execution_count": 10
        }
      ]
    },
    {
      "cell_type": "markdown",
      "metadata": {
        "id": "eR-9lPsaN1ce"
      },
      "source": [
        "## Replace NaN with mean: Imputation\n",
        "- NaN ==>> mean, 33.3 (100/3)"
      ]
    },
    {
      "cell_type": "code",
      "metadata": {
        "id": "aOZec4f9Z4uB"
      },
      "source": [
        "# df=df.fillna(33.3)\n",
        "# df.isna().sum()"
      ],
      "execution_count": null,
      "outputs": []
    },
    {
      "cell_type": "markdown",
      "metadata": {
        "id": "fMZWYEMxOmSy"
      },
      "source": [
        "## IoT data were cleaned!"
      ]
    },
    {
      "cell_type": "code",
      "source": [
        "# Save cleaned iot data in csv file.\n",
        "df.to_csv('iot33imu_data_cleaned_221215_raw.csv')"
      ],
      "metadata": {
        "id": "N6MPFoVPDKAV"
      },
      "execution_count": null,
      "outputs": []
    },
    {
      "cell_type": "code",
      "metadata": {
        "colab": {
          "base_uri": "https://localhost:8080/",
          "height": 206
        },
        "id": "PG38R4s0pU4B",
        "outputId": "ad5ca774-ceb1-4173-a7a0-e117242af13c"
      },
      "source": [
        "df.head()"
      ],
      "execution_count": null,
      "outputs": [
        {
          "output_type": "execute_result",
          "data": {
            "text/plain": [
              "                        _id                    date  accel_x  accel_y  \\\n",
              "0  6387f6a12d6cf8514669c507 2022-12-01 09:34:41.583     0.03    -0.01   \n",
              "1  6387f6a22d6cf8514669c509 2022-12-01 09:34:42.092     0.03    -0.01   \n",
              "2  6387f6a22d6cf8514669c50b 2022-12-01 09:34:42.600     0.03    -0.01   \n",
              "3  6387f6a32d6cf8514669c50d 2022-12-01 09:34:43.109     0.03    -0.01   \n",
              "4  6387f6a32d6cf8514669c50f 2022-12-01 09:34:43.618     0.03    -0.01   \n",
              "\n",
              "   accel_z  gyro_x  gyro_y  gyro_z  mag_x  mag_y  mag_z  __v  \n",
              "0     0.99   -0.37   -3.72   -0.24  -3.47 -10.40 -43.73    0  \n",
              "1     0.99   -0.43   -3.48   -0.31  -2.89 -12.07 -44.97    0  \n",
              "2     0.99   -0.31   -3.72   -0.12  -3.36 -12.07 -45.67    0  \n",
              "3     0.99   -0.37   -3.54   -0.24  -3.52 -11.96 -44.63    0  \n",
              "4     0.99   -0.24   -3.72   -0.18  -3.27 -12.04 -44.25    0  "
            ],
            "text/html": [
              "\n",
              "  <div id=\"df-98b7259b-cd51-40e1-9b41-c4b09e073848\">\n",
              "    <div class=\"colab-df-container\">\n",
              "      <div>\n",
              "<style scoped>\n",
              "    .dataframe tbody tr th:only-of-type {\n",
              "        vertical-align: middle;\n",
              "    }\n",
              "\n",
              "    .dataframe tbody tr th {\n",
              "        vertical-align: top;\n",
              "    }\n",
              "\n",
              "    .dataframe thead th {\n",
              "        text-align: right;\n",
              "    }\n",
              "</style>\n",
              "<table border=\"1\" class=\"dataframe\">\n",
              "  <thead>\n",
              "    <tr style=\"text-align: right;\">\n",
              "      <th></th>\n",
              "      <th>_id</th>\n",
              "      <th>date</th>\n",
              "      <th>accel_x</th>\n",
              "      <th>accel_y</th>\n",
              "      <th>accel_z</th>\n",
              "      <th>gyro_x</th>\n",
              "      <th>gyro_y</th>\n",
              "      <th>gyro_z</th>\n",
              "      <th>mag_x</th>\n",
              "      <th>mag_y</th>\n",
              "      <th>mag_z</th>\n",
              "      <th>__v</th>\n",
              "    </tr>\n",
              "  </thead>\n",
              "  <tbody>\n",
              "    <tr>\n",
              "      <th>0</th>\n",
              "      <td>6387f6a12d6cf8514669c507</td>\n",
              "      <td>2022-12-01 09:34:41.583</td>\n",
              "      <td>0.03</td>\n",
              "      <td>-0.01</td>\n",
              "      <td>0.99</td>\n",
              "      <td>-0.37</td>\n",
              "      <td>-3.72</td>\n",
              "      <td>-0.24</td>\n",
              "      <td>-3.47</td>\n",
              "      <td>-10.40</td>\n",
              "      <td>-43.73</td>\n",
              "      <td>0</td>\n",
              "    </tr>\n",
              "    <tr>\n",
              "      <th>1</th>\n",
              "      <td>6387f6a22d6cf8514669c509</td>\n",
              "      <td>2022-12-01 09:34:42.092</td>\n",
              "      <td>0.03</td>\n",
              "      <td>-0.01</td>\n",
              "      <td>0.99</td>\n",
              "      <td>-0.43</td>\n",
              "      <td>-3.48</td>\n",
              "      <td>-0.31</td>\n",
              "      <td>-2.89</td>\n",
              "      <td>-12.07</td>\n",
              "      <td>-44.97</td>\n",
              "      <td>0</td>\n",
              "    </tr>\n",
              "    <tr>\n",
              "      <th>2</th>\n",
              "      <td>6387f6a22d6cf8514669c50b</td>\n",
              "      <td>2022-12-01 09:34:42.600</td>\n",
              "      <td>0.03</td>\n",
              "      <td>-0.01</td>\n",
              "      <td>0.99</td>\n",
              "      <td>-0.31</td>\n",
              "      <td>-3.72</td>\n",
              "      <td>-0.12</td>\n",
              "      <td>-3.36</td>\n",
              "      <td>-12.07</td>\n",
              "      <td>-45.67</td>\n",
              "      <td>0</td>\n",
              "    </tr>\n",
              "    <tr>\n",
              "      <th>3</th>\n",
              "      <td>6387f6a32d6cf8514669c50d</td>\n",
              "      <td>2022-12-01 09:34:43.109</td>\n",
              "      <td>0.03</td>\n",
              "      <td>-0.01</td>\n",
              "      <td>0.99</td>\n",
              "      <td>-0.37</td>\n",
              "      <td>-3.54</td>\n",
              "      <td>-0.24</td>\n",
              "      <td>-3.52</td>\n",
              "      <td>-11.96</td>\n",
              "      <td>-44.63</td>\n",
              "      <td>0</td>\n",
              "    </tr>\n",
              "    <tr>\n",
              "      <th>4</th>\n",
              "      <td>6387f6a32d6cf8514669c50f</td>\n",
              "      <td>2022-12-01 09:34:43.618</td>\n",
              "      <td>0.03</td>\n",
              "      <td>-0.01</td>\n",
              "      <td>0.99</td>\n",
              "      <td>-0.24</td>\n",
              "      <td>-3.72</td>\n",
              "      <td>-0.18</td>\n",
              "      <td>-3.27</td>\n",
              "      <td>-12.04</td>\n",
              "      <td>-44.25</td>\n",
              "      <td>0</td>\n",
              "    </tr>\n",
              "  </tbody>\n",
              "</table>\n",
              "</div>\n",
              "      <button class=\"colab-df-convert\" onclick=\"convertToInteractive('df-98b7259b-cd51-40e1-9b41-c4b09e073848')\"\n",
              "              title=\"Convert this dataframe to an interactive table.\"\n",
              "              style=\"display:none;\">\n",
              "        \n",
              "  <svg xmlns=\"http://www.w3.org/2000/svg\" height=\"24px\"viewBox=\"0 0 24 24\"\n",
              "       width=\"24px\">\n",
              "    <path d=\"M0 0h24v24H0V0z\" fill=\"none\"/>\n",
              "    <path d=\"M18.56 5.44l.94 2.06.94-2.06 2.06-.94-2.06-.94-.94-2.06-.94 2.06-2.06.94zm-11 1L8.5 8.5l.94-2.06 2.06-.94-2.06-.94L8.5 2.5l-.94 2.06-2.06.94zm10 10l.94 2.06.94-2.06 2.06-.94-2.06-.94-.94-2.06-.94 2.06-2.06.94z\"/><path d=\"M17.41 7.96l-1.37-1.37c-.4-.4-.92-.59-1.43-.59-.52 0-1.04.2-1.43.59L10.3 9.45l-7.72 7.72c-.78.78-.78 2.05 0 2.83L4 21.41c.39.39.9.59 1.41.59.51 0 1.02-.2 1.41-.59l7.78-7.78 2.81-2.81c.8-.78.8-2.07 0-2.86zM5.41 20L4 18.59l7.72-7.72 1.47 1.35L5.41 20z\"/>\n",
              "  </svg>\n",
              "      </button>\n",
              "      \n",
              "  <style>\n",
              "    .colab-df-container {\n",
              "      display:flex;\n",
              "      flex-wrap:wrap;\n",
              "      gap: 12px;\n",
              "    }\n",
              "\n",
              "    .colab-df-convert {\n",
              "      background-color: #E8F0FE;\n",
              "      border: none;\n",
              "      border-radius: 50%;\n",
              "      cursor: pointer;\n",
              "      display: none;\n",
              "      fill: #1967D2;\n",
              "      height: 32px;\n",
              "      padding: 0 0 0 0;\n",
              "      width: 32px;\n",
              "    }\n",
              "\n",
              "    .colab-df-convert:hover {\n",
              "      background-color: #E2EBFA;\n",
              "      box-shadow: 0px 1px 2px rgba(60, 64, 67, 0.3), 0px 1px 3px 1px rgba(60, 64, 67, 0.15);\n",
              "      fill: #174EA6;\n",
              "    }\n",
              "\n",
              "    [theme=dark] .colab-df-convert {\n",
              "      background-color: #3B4455;\n",
              "      fill: #D2E3FC;\n",
              "    }\n",
              "\n",
              "    [theme=dark] .colab-df-convert:hover {\n",
              "      background-color: #434B5C;\n",
              "      box-shadow: 0px 1px 3px 1px rgba(0, 0, 0, 0.15);\n",
              "      filter: drop-shadow(0px 1px 2px rgba(0, 0, 0, 0.3));\n",
              "      fill: #FFFFFF;\n",
              "    }\n",
              "  </style>\n",
              "\n",
              "      <script>\n",
              "        const buttonEl =\n",
              "          document.querySelector('#df-98b7259b-cd51-40e1-9b41-c4b09e073848 button.colab-df-convert');\n",
              "        buttonEl.style.display =\n",
              "          google.colab.kernel.accessAllowed ? 'block' : 'none';\n",
              "\n",
              "        async function convertToInteractive(key) {\n",
              "          const element = document.querySelector('#df-98b7259b-cd51-40e1-9b41-c4b09e073848');\n",
              "          const dataTable =\n",
              "            await google.colab.kernel.invokeFunction('convertToInteractive',\n",
              "                                                     [key], {});\n",
              "          if (!dataTable) return;\n",
              "\n",
              "          const docLinkHtml = 'Like what you see? Visit the ' +\n",
              "            '<a target=\"_blank\" href=https://colab.research.google.com/notebooks/data_table.ipynb>data table notebook</a>'\n",
              "            + ' to learn more about interactive tables.';\n",
              "          element.innerHTML = '';\n",
              "          dataTable['output_type'] = 'display_data';\n",
              "          await google.colab.output.renderOutput(dataTable, element);\n",
              "          const docLink = document.createElement('div');\n",
              "          docLink.innerHTML = docLinkHtml;\n",
              "          element.appendChild(docLink);\n",
              "        }\n",
              "      </script>\n",
              "    </div>\n",
              "  </div>\n",
              "  "
            ]
          },
          "metadata": {},
          "execution_count": 12
        }
      ]
    },
    {
      "cell_type": "markdown",
      "metadata": {
        "id": "H5gtQbgCw62w"
      },
      "source": [
        "## New DataFrame : iot_data\n",
        "### Dataframe with date and ax,ay,az,gx,gy,gz,mx,my,mz"
      ]
    },
    {
      "cell_type": "markdown",
      "source": [
        "### [DIY-1] "
      ],
      "metadata": {
        "id": "Bk_q0zf6tuQ9"
      }
    },
    {
      "cell_type": "code",
      "metadata": {
        "id": "5VTfTsldfaGj"
      },
      "source": [
        "#  [DIY-1] select columns\n",
        "cols = ['date',  ]"
      ],
      "execution_count": null,
      "outputs": []
    },
    {
      "cell_type": "code",
      "metadata": {
        "id": "wLi8PDa_wly3"
      },
      "source": [
        "# Make iot data\n",
        "iot_data = df[cols]"
      ],
      "execution_count": null,
      "outputs": []
    },
    {
      "cell_type": "code",
      "metadata": {
        "colab": {
          "base_uri": "https://localhost:8080/"
        },
        "id": "NWW0Y_Zswly8",
        "outputId": "298127f9-6a9e-4ecd-8ab2-163a410dcb30"
      },
      "source": [
        "iot_data.shape"
      ],
      "execution_count": null,
      "outputs": [
        {
          "output_type": "execute_result",
          "data": {
            "text/plain": [
              "(39565, 10)"
            ]
          },
          "metadata": {},
          "execution_count": 15
        }
      ]
    },
    {
      "cell_type": "code",
      "metadata": {
        "colab": {
          "base_uri": "https://localhost:8080/",
          "height": 206
        },
        "id": "QrsngVb8wlzA",
        "outputId": "b297583f-3519-4057-a0d1-7682103dcd4f"
      },
      "source": [
        "iot_data.head()  # date와 9 개의 신호를 확인."
      ],
      "execution_count": null,
      "outputs": [
        {
          "output_type": "execute_result",
          "data": {
            "text/plain": [
              "                     date  accel_x  accel_y  accel_z  gyro_x  gyro_y  gyro_z  \\\n",
              "0 2022-12-01 09:34:41.583     0.03    -0.01     0.99   -0.37   -3.72   -0.24   \n",
              "1 2022-12-01 09:34:42.092     0.03    -0.01     0.99   -0.43   -3.48   -0.31   \n",
              "2 2022-12-01 09:34:42.600     0.03    -0.01     0.99   -0.31   -3.72   -0.12   \n",
              "3 2022-12-01 09:34:43.109     0.03    -0.01     0.99   -0.37   -3.54   -0.24   \n",
              "4 2022-12-01 09:34:43.618     0.03    -0.01     0.99   -0.24   -3.72   -0.18   \n",
              "\n",
              "   mag_x  mag_y  mag_z  \n",
              "0  -3.47 -10.40 -43.73  \n",
              "1  -2.89 -12.07 -44.97  \n",
              "2  -3.36 -12.07 -45.67  \n",
              "3  -3.52 -11.96 -44.63  \n",
              "4  -3.27 -12.04 -44.25  "
            ],
            "text/html": [
              "\n",
              "  <div id=\"df-80af0be3-cf5d-4d91-b71b-854876955cfd\">\n",
              "    <div class=\"colab-df-container\">\n",
              "      <div>\n",
              "<style scoped>\n",
              "    .dataframe tbody tr th:only-of-type {\n",
              "        vertical-align: middle;\n",
              "    }\n",
              "\n",
              "    .dataframe tbody tr th {\n",
              "        vertical-align: top;\n",
              "    }\n",
              "\n",
              "    .dataframe thead th {\n",
              "        text-align: right;\n",
              "    }\n",
              "</style>\n",
              "<table border=\"1\" class=\"dataframe\">\n",
              "  <thead>\n",
              "    <tr style=\"text-align: right;\">\n",
              "      <th></th>\n",
              "      <th>date</th>\n",
              "      <th>accel_x</th>\n",
              "      <th>accel_y</th>\n",
              "      <th>accel_z</th>\n",
              "      <th>gyro_x</th>\n",
              "      <th>gyro_y</th>\n",
              "      <th>gyro_z</th>\n",
              "      <th>mag_x</th>\n",
              "      <th>mag_y</th>\n",
              "      <th>mag_z</th>\n",
              "    </tr>\n",
              "  </thead>\n",
              "  <tbody>\n",
              "    <tr>\n",
              "      <th>0</th>\n",
              "      <td>2022-12-01 09:34:41.583</td>\n",
              "      <td>0.03</td>\n",
              "      <td>-0.01</td>\n",
              "      <td>0.99</td>\n",
              "      <td>-0.37</td>\n",
              "      <td>-3.72</td>\n",
              "      <td>-0.24</td>\n",
              "      <td>-3.47</td>\n",
              "      <td>-10.40</td>\n",
              "      <td>-43.73</td>\n",
              "    </tr>\n",
              "    <tr>\n",
              "      <th>1</th>\n",
              "      <td>2022-12-01 09:34:42.092</td>\n",
              "      <td>0.03</td>\n",
              "      <td>-0.01</td>\n",
              "      <td>0.99</td>\n",
              "      <td>-0.43</td>\n",
              "      <td>-3.48</td>\n",
              "      <td>-0.31</td>\n",
              "      <td>-2.89</td>\n",
              "      <td>-12.07</td>\n",
              "      <td>-44.97</td>\n",
              "    </tr>\n",
              "    <tr>\n",
              "      <th>2</th>\n",
              "      <td>2022-12-01 09:34:42.600</td>\n",
              "      <td>0.03</td>\n",
              "      <td>-0.01</td>\n",
              "      <td>0.99</td>\n",
              "      <td>-0.31</td>\n",
              "      <td>-3.72</td>\n",
              "      <td>-0.12</td>\n",
              "      <td>-3.36</td>\n",
              "      <td>-12.07</td>\n",
              "      <td>-45.67</td>\n",
              "    </tr>\n",
              "    <tr>\n",
              "      <th>3</th>\n",
              "      <td>2022-12-01 09:34:43.109</td>\n",
              "      <td>0.03</td>\n",
              "      <td>-0.01</td>\n",
              "      <td>0.99</td>\n",
              "      <td>-0.37</td>\n",
              "      <td>-3.54</td>\n",
              "      <td>-0.24</td>\n",
              "      <td>-3.52</td>\n",
              "      <td>-11.96</td>\n",
              "      <td>-44.63</td>\n",
              "    </tr>\n",
              "    <tr>\n",
              "      <th>4</th>\n",
              "      <td>2022-12-01 09:34:43.618</td>\n",
              "      <td>0.03</td>\n",
              "      <td>-0.01</td>\n",
              "      <td>0.99</td>\n",
              "      <td>-0.24</td>\n",
              "      <td>-3.72</td>\n",
              "      <td>-0.18</td>\n",
              "      <td>-3.27</td>\n",
              "      <td>-12.04</td>\n",
              "      <td>-44.25</td>\n",
              "    </tr>\n",
              "  </tbody>\n",
              "</table>\n",
              "</div>\n",
              "      <button class=\"colab-df-convert\" onclick=\"convertToInteractive('df-80af0be3-cf5d-4d91-b71b-854876955cfd')\"\n",
              "              title=\"Convert this dataframe to an interactive table.\"\n",
              "              style=\"display:none;\">\n",
              "        \n",
              "  <svg xmlns=\"http://www.w3.org/2000/svg\" height=\"24px\"viewBox=\"0 0 24 24\"\n",
              "       width=\"24px\">\n",
              "    <path d=\"M0 0h24v24H0V0z\" fill=\"none\"/>\n",
              "    <path d=\"M18.56 5.44l.94 2.06.94-2.06 2.06-.94-2.06-.94-.94-2.06-.94 2.06-2.06.94zm-11 1L8.5 8.5l.94-2.06 2.06-.94-2.06-.94L8.5 2.5l-.94 2.06-2.06.94zm10 10l.94 2.06.94-2.06 2.06-.94-2.06-.94-.94-2.06-.94 2.06-2.06.94z\"/><path d=\"M17.41 7.96l-1.37-1.37c-.4-.4-.92-.59-1.43-.59-.52 0-1.04.2-1.43.59L10.3 9.45l-7.72 7.72c-.78.78-.78 2.05 0 2.83L4 21.41c.39.39.9.59 1.41.59.51 0 1.02-.2 1.41-.59l7.78-7.78 2.81-2.81c.8-.78.8-2.07 0-2.86zM5.41 20L4 18.59l7.72-7.72 1.47 1.35L5.41 20z\"/>\n",
              "  </svg>\n",
              "      </button>\n",
              "      \n",
              "  <style>\n",
              "    .colab-df-container {\n",
              "      display:flex;\n",
              "      flex-wrap:wrap;\n",
              "      gap: 12px;\n",
              "    }\n",
              "\n",
              "    .colab-df-convert {\n",
              "      background-color: #E8F0FE;\n",
              "      border: none;\n",
              "      border-radius: 50%;\n",
              "      cursor: pointer;\n",
              "      display: none;\n",
              "      fill: #1967D2;\n",
              "      height: 32px;\n",
              "      padding: 0 0 0 0;\n",
              "      width: 32px;\n",
              "    }\n",
              "\n",
              "    .colab-df-convert:hover {\n",
              "      background-color: #E2EBFA;\n",
              "      box-shadow: 0px 1px 2px rgba(60, 64, 67, 0.3), 0px 1px 3px 1px rgba(60, 64, 67, 0.15);\n",
              "      fill: #174EA6;\n",
              "    }\n",
              "\n",
              "    [theme=dark] .colab-df-convert {\n",
              "      background-color: #3B4455;\n",
              "      fill: #D2E3FC;\n",
              "    }\n",
              "\n",
              "    [theme=dark] .colab-df-convert:hover {\n",
              "      background-color: #434B5C;\n",
              "      box-shadow: 0px 1px 3px 1px rgba(0, 0, 0, 0.15);\n",
              "      filter: drop-shadow(0px 1px 2px rgba(0, 0, 0, 0.3));\n",
              "      fill: #FFFFFF;\n",
              "    }\n",
              "  </style>\n",
              "\n",
              "      <script>\n",
              "        const buttonEl =\n",
              "          document.querySelector('#df-80af0be3-cf5d-4d91-b71b-854876955cfd button.colab-df-convert');\n",
              "        buttonEl.style.display =\n",
              "          google.colab.kernel.accessAllowed ? 'block' : 'none';\n",
              "\n",
              "        async function convertToInteractive(key) {\n",
              "          const element = document.querySelector('#df-80af0be3-cf5d-4d91-b71b-854876955cfd');\n",
              "          const dataTable =\n",
              "            await google.colab.kernel.invokeFunction('convertToInteractive',\n",
              "                                                     [key], {});\n",
              "          if (!dataTable) return;\n",
              "\n",
              "          const docLinkHtml = 'Like what you see? Visit the ' +\n",
              "            '<a target=\"_blank\" href=https://colab.research.google.com/notebooks/data_table.ipynb>data table notebook</a>'\n",
              "            + ' to learn more about interactive tables.';\n",
              "          element.innerHTML = '';\n",
              "          dataTable['output_type'] = 'display_data';\n",
              "          await google.colab.output.renderOutput(dataTable, element);\n",
              "          const docLink = document.createElement('div');\n",
              "          docLink.innerHTML = docLinkHtml;\n",
              "          element.appendChild(docLink);\n",
              "        }\n",
              "      </script>\n",
              "    </div>\n",
              "  </div>\n",
              "  "
            ]
          },
          "metadata": {},
          "execution_count": 16
        }
      ]
    },
    {
      "cell_type": "code",
      "metadata": {
        "colab": {
          "base_uri": "https://localhost:8080/"
        },
        "id": "ZI7ggvWpwlzG",
        "outputId": "1d4f9eea-39ea-4aeb-b15b-81bd263a319e"
      },
      "source": [
        "iot_data.info()"
      ],
      "execution_count": null,
      "outputs": [
        {
          "output_type": "stream",
          "name": "stdout",
          "text": [
            "<class 'pandas.core.frame.DataFrame'>\n",
            "RangeIndex: 39565 entries, 0 to 39564\n",
            "Data columns (total 10 columns):\n",
            " #   Column   Non-Null Count  Dtype         \n",
            "---  ------   --------------  -----         \n",
            " 0   date     39565 non-null  datetime64[ns]\n",
            " 1   accel_x  39565 non-null  float64       \n",
            " 2   accel_y  39565 non-null  float64       \n",
            " 3   accel_z  39565 non-null  float64       \n",
            " 4   gyro_x   39565 non-null  float64       \n",
            " 5   gyro_y   39565 non-null  float64       \n",
            " 6   gyro_z   39565 non-null  float64       \n",
            " 7   mag_x    39565 non-null  float64       \n",
            " 8   mag_y    39565 non-null  float64       \n",
            " 9   mag_z    39565 non-null  float64       \n",
            "dtypes: datetime64[ns](1), float64(9)\n",
            "memory usage: 3.0 MB\n"
          ]
        }
      ]
    },
    {
      "cell_type": "code",
      "metadata": {
        "colab": {
          "base_uri": "https://localhost:8080/"
        },
        "id": "YlYSuLHMdX3_",
        "outputId": "83fcb5e5-b571-46f5-dd5b-86958b432f2f"
      },
      "source": [
        "iot_data.isna().sum()"
      ],
      "execution_count": null,
      "outputs": [
        {
          "output_type": "execute_result",
          "data": {
            "text/plain": [
              "date       0\n",
              "accel_x    0\n",
              "accel_y    0\n",
              "accel_z    0\n",
              "gyro_x     0\n",
              "gyro_y     0\n",
              "gyro_z     0\n",
              "mag_x      0\n",
              "mag_y      0\n",
              "mag_z      0\n",
              "dtype: int64"
            ]
          },
          "metadata": {},
          "execution_count": 18
        }
      ]
    },
    {
      "cell_type": "code",
      "metadata": {
        "id": "sKH2MLA7lxjh"
      },
      "source": [
        "# Save iot data in csv file.\n",
        "iot_data.to_csv('iot_nano33imu_221215.csv')"
      ],
      "execution_count": null,
      "outputs": []
    },
    {
      "cell_type": "markdown",
      "metadata": {
        "id": "tqGuXzIPfYbZ"
      },
      "source": [
        "## EDA (Exploratory Data Analysis, 탐색적 자료 분석) "
      ]
    },
    {
      "cell_type": "code",
      "metadata": {
        "colab": {
          "base_uri": "https://localhost:8080/",
          "height": 309
        },
        "id": "2QB6w7uvuN6R",
        "outputId": "60480a03-69a0-4fb2-98af-e25257141496"
      },
      "source": [
        "# Plot boxplot\n",
        "iot_data.iloc[:,1:].plot.box(title='Boxplot of all signals')\n",
        "plt.xticks(rotation=60)\n",
        "plt.show()"
      ],
      "execution_count": null,
      "outputs": [
        {
          "output_type": "display_data",
          "data": {
            "text/plain": [
              "<Figure size 432x288 with 1 Axes>"
            ],
            "image/png": "[encoded data removed]"
          },
          "metadata": {
            "needs_background": "light"
          }
        }
      ]
    },
    {
      "cell_type": "markdown",
      "metadata": {
        "id": "feFqm_ocxRjV"
      },
      "source": [
        "### Plot time series of sensor data"
      ]
    },
    {
      "cell_type": "code",
      "metadata": {
        "colab": {
          "base_uri": "https://localhost:8080/",
          "height": 371
        },
        "id": "AM_CyVjawlzM",
        "outputId": "23e2eeb6-0805-4aa7-d5b2-477373bbcd20"
      },
      "source": [
        "iot_data.plot(x='date', y='accel_x', figsize=(10,5), title='Ax')\n",
        "plt.xticks(rotation=90)\n",
        "plt.show()"
      ],
      "execution_count": null,
      "outputs": [
        {
          "output_type": "display_data",
          "data": {
            "text/plain": [
              "<Figure size 720x360 with 1 Axes>"
            ],
            "image/png": "[encoded data removed]"
          },
          "metadata": {
            "needs_background": "light"
          }
        }
      ]
    },
    {
      "cell_type": "code",
      "metadata": {
        "colab": {
          "base_uri": "https://localhost:8080/",
          "height": 371
        },
        "id": "MbaBO6uRKCjj",
        "outputId": "81eecf18-a8a8-4296-c82c-55bd6a045256"
      },
      "source": [
        "iot_data.plot(x='date', y='gyro_x', figsize=(10,5), title='Gx')\n",
        "plt.xticks(rotation=90)\n",
        "plt.show()"
      ],
      "execution_count": null,
      "outputs": [
        {
          "output_type": "display_data",
          "data": {
            "text/plain": [
              "<Figure size 720x360 with 1 Axes>"
            ],
            "image/png": "[encoded data removed]"
          },
          "metadata": {
            "needs_background": "light"
          }
        }
      ]
    },
    {
      "cell_type": "markdown",
      "metadata": {
        "id": "4W2OVUXZ0eKc"
      },
      "source": [
        "#### 다중그래프 (multiple graphs)"
      ]
    },
    {
      "cell_type": "code",
      "metadata": {
        "colab": {
          "base_uri": "https://localhost:8080/",
          "height": 368
        },
        "id": "7XiF7ghFwlzc",
        "outputId": "4e69475b-8355-4ad5-c4f6-66202c1ff3de"
      },
      "source": [
        "# 3축 가속도를 아래에 그리시오.\n",
        "iot_data.plot(x='date', y=['accel_x','accel_y','accel_z'], figsize=(10,5), title='Ax, Ay, Az')"
      ],
      "execution_count": null,
      "outputs": [
        {
          "output_type": "execute_result",
          "data": {
            "text/plain": [
              "<matplotlib.axes._subplots.AxesSubplot at 0x7f8a7d9d8d60>"
            ]
          },
          "metadata": {},
          "execution_count": 24
        },
        {
          "output_type": "display_data",
          "data": {
            "text/plain": [
              "<Figure size 720x360 with 1 Axes>"
            ],
            "image/png": "[encoded data removed]"
          },
          "metadata": {
            "needs_background": "light"
          }
        }
      ]
    },
    {
      "cell_type": "markdown",
      "source": [
        "### [DIY-2] "
      ],
      "metadata": {
        "id": "vTrobcQvui61"
      }
    },
    {
      "cell_type": "code",
      "metadata": {
        "colab": {
          "base_uri": "https://localhost:8080/",
          "height": 368
        },
        "outputId": "eb6ad8e1-72fe-4747-8436-47dbb6563988",
        "id": "VcaWhpJKvCIr"
      },
      "source": [
        "# 3축 자이로 신호를 아래에 그리시오.\n",
        "iot_data.plot(x='date', y , figsize=(10,5), title='Gx, Gy, Gz')"
      ],
      "execution_count": null,
      "outputs": [
        {
          "output_type": "execute_result",
          "data": {
            "text/plain": [
              "<matplotlib.axes._subplots.AxesSubplot at 0x7f8a7d6febb0>"
            ]
          },
          "metadata": {},
          "execution_count": 25
        },
        {
          "output_type": "display_data",
          "data": {
            "text/plain": [
              "<Figure size 720x360 with 1 Axes>"
            ],
            "image/png": "[encoded data removed]"
          },
          "metadata": {
            "needs_background": "light"
          }
        }
      ]
    },
    {
      "cell_type": "markdown",
      "source": [
        "### [DIY-3] "
      ],
      "metadata": {
        "id": "DwG4n6g-wRN4"
      }
    },
    {
      "cell_type": "code",
      "metadata": {
        "colab": {
          "base_uri": "https://localhost:8080/",
          "height": 368
        },
        "outputId": "e04c335b-61e2-477b-85c0-38880922dc7e",
        "id": "qbZXM16Vvbcv"
      },
      "source": [
        "# Ax, Gx,Mx 신호를 아래에 그리시오.\n",
        "iot_data.plot(x='date', y , figsize=(10,5), title='Ax, Gx, Mx')"
      ],
      "execution_count": null,
      "outputs": [
        {
          "output_type": "execute_result",
          "data": {
            "text/plain": [
              "<matplotlib.axes._subplots.AxesSubplot at 0x7f8a7ea73be0>"
            ]
          },
          "metadata": {},
          "execution_count": 26
        },
        {
          "output_type": "display_data",
          "data": {
            "text/plain": [
              "<Figure size 720x360 with 1 Axes>"
            ],
            "image/png": "[encoded data removed]"
          },
          "metadata": {
            "needs_background": "light"
          }
        }
      ]
    },
    {
      "cell_type": "markdown",
      "metadata": {
        "id": "6yaOaE05xthv"
      },
      "source": [
        "### Plot the mean of sensor data\n",
        "### [DIY-4] 아래 코드를 참조해서 Az,Gz,Mz의 평균을 구하고 막대 그래프로 그리시오."
      ]
    },
    {
      "cell_type": "code",
      "metadata": {
        "colab": {
          "base_uri": "https://localhost:8080/"
        },
        "id": "455qOpbbwlzp",
        "outputId": "d66cc109-6256-471f-c467-90af87fe6dc8"
      },
      "source": [
        "iot_data[['temperature','humidity','luminosity']].mean()  "
      ],
      "execution_count": null,
      "outputs": [
        {
          "output_type": "execute_result",
          "data": {
            "text/plain": [
              "temperature    26.727924\n",
              "humidity       29.272309\n",
              "luminosity     88.955534\n",
              "dtype: float64"
            ]
          },
          "metadata": {},
          "execution_count": 45
        }
      ]
    },
    {
      "cell_type": "code",
      "metadata": {
        "colab": {
          "base_uri": "https://localhost:8080/",
          "height": 559
        },
        "id": "26ZUc5ULwlzw",
        "outputId": "a6404350-dc04-44d3-8c8e-34f810ec4256"
      },
      "source": [
        "iot_data[['temperature','humidity','luminosity']].mean().plot.bar(figsize=(8,5), \n",
        "                                                                  title=\"Mean of temperature, humidity, and luminosity\")"
      ],
      "execution_count": null,
      "outputs": [
        {
          "output_type": "execute_result",
          "data": {
            "text/plain": [
              "<matplotlib.axes._subplots.AxesSubplot at 0x7fdc21671cd0>"
            ]
          },
          "metadata": {},
          "execution_count": 46
        },
        {
          "output_type": "display_data",
          "data": {
            "text/plain": [
              "<Figure size 800x500 with 1 Axes>"
            ],
            "image/png": "[encoded data removed]"
          },
          "metadata": {}
        }
      ]
    },
    {
      "cell_type": "markdown",
      "metadata": {
        "id": "DwAOwL1kdEUn"
      },
      "source": [
        "# Advanced graphics using pandas"
      ]
    },
    {
      "cell_type": "markdown",
      "metadata": {
        "id": "LxgcWZ2wx6TQ"
      },
      "source": [
        "### Plot the change of sensor data over various time spans.\n",
        "\n",
        "> time span: 60 sec, 1 hour, 1 day, $\\cdots$"
      ]
    },
    {
      "cell_type": "code",
      "metadata": {
        "id": "xopxI05ggHJb",
        "colab": {
          "base_uri": "https://localhost:8080/",
          "height": 206
        },
        "outputId": "3216fbf8-8ca4-4bc1-9716-982a0f01c60a"
      },
      "source": [
        "iot_data.head()"
      ],
      "execution_count": null,
      "outputs": [
        {
          "output_type": "execute_result",
          "data": {
            "text/plain": [
              "                     date  accel_x  accel_y  accel_z  gyro_x  gyro_y  gyro_z  \\\n",
              "0 2022-12-01 09:34:41.583     0.03    -0.01     0.99   -0.37   -3.72   -0.24   \n",
              "1 2022-12-01 09:34:42.092     0.03    -0.01     0.99   -0.43   -3.48   -0.31   \n",
              "2 2022-12-01 09:34:42.600     0.03    -0.01     0.99   -0.31   -3.72   -0.12   \n",
              "3 2022-12-01 09:34:43.109     0.03    -0.01     0.99   -0.37   -3.54   -0.24   \n",
              "4 2022-12-01 09:34:43.618     0.03    -0.01     0.99   -0.24   -3.72   -0.18   \n",
              "\n",
              "   mag_x  mag_y  mag_z  \n",
              "0  -3.47 -10.40 -43.73  \n",
              "1  -2.89 -12.07 -44.97  \n",
              "2  -3.36 -12.07 -45.67  \n",
              "3  -3.52 -11.96 -44.63  \n",
              "4  -3.27 -12.04 -44.25  "
            ],
            "text/html": [
              "\n",
              "  <div id=\"df-f9d14af6-f99b-4a69-a2c3-708a0ae1c05a\">\n",
              "    <div class=\"colab-df-container\">\n",
              "      <div>\n",
              "<style scoped>\n",
              "    .dataframe tbody tr th:only-of-type {\n",
              "        vertical-align: middle;\n",
              "    }\n",
              "\n",
              "    .dataframe tbody tr th {\n",
              "        vertical-align: top;\n",
              "    }\n",
              "\n",
              "    .dataframe thead th {\n",
              "        text-align: right;\n",
              "    }\n",
              "</style>\n",
              "<table border=\"1\" class=\"dataframe\">\n",
              "  <thead>\n",
              "    <tr style=\"text-align: right;\">\n",
              "      <th></th>\n",
              "      <th>date</th>\n",
              "      <th>accel_x</th>\n",
              "      <th>accel_y</th>\n",
              "      <th>accel_z</th>\n",
              "      <th>gyro_x</th>\n",
              "      <th>gyro_y</th>\n",
              "      <th>gyro_z</th>\n",
              "      <th>mag_x</th>\n",
              "      <th>mag_y</th>\n",
              "      <th>mag_z</th>\n",
              "    </tr>\n",
              "  </thead>\n",
              "  <tbody>\n",
              "    <tr>\n",
              "      <th>0</th>\n",
              "      <td>2022-12-01 09:34:41.583</td>\n",
              "      <td>0.03</td>\n",
              "      <td>-0.01</td>\n",
              "      <td>0.99</td>\n",
              "      <td>-0.37</td>\n",
              "      <td>-3.72</td>\n",
              "      <td>-0.24</td>\n",
              "      <td>-3.47</td>\n",
              "      <td>-10.40</td>\n",
              "      <td>-43.73</td>\n",
              "    </tr>\n",
              "    <tr>\n",
              "      <th>1</th>\n",
              "      <td>2022-12-01 09:34:42.092</td>\n",
              "      <td>0.03</td>\n",
              "      <td>-0.01</td>\n",
              "      <td>0.99</td>\n",
              "      <td>-0.43</td>\n",
              "      <td>-3.48</td>\n",
              "      <td>-0.31</td>\n",
              "      <td>-2.89</td>\n",
              "      <td>-12.07</td>\n",
              "      <td>-44.97</td>\n",
              "    </tr>\n",
              "    <tr>\n",
              "      <th>2</th>\n",
              "      <td>2022-12-01 09:34:42.600</td>\n",
              "      <td>0.03</td>\n",
              "      <td>-0.01</td>\n",
              "      <td>0.99</td>\n",
              "      <td>-0.31</td>\n",
              "      <td>-3.72</td>\n",
              "      <td>-0.12</td>\n",
              "      <td>-3.36</td>\n",
              "      <td>-12.07</td>\n",
              "      <td>-45.67</td>\n",
              "    </tr>\n",
              "    <tr>\n",
              "      <th>3</th>\n",
              "      <td>2022-12-01 09:34:43.109</td>\n",
              "      <td>0.03</td>\n",
              "      <td>-0.01</td>\n",
              "      <td>0.99</td>\n",
              "      <td>-0.37</td>\n",
              "      <td>-3.54</td>\n",
              "      <td>-0.24</td>\n",
              "      <td>-3.52</td>\n",
              "      <td>-11.96</td>\n",
              "      <td>-44.63</td>\n",
              "    </tr>\n",
              "    <tr>\n",
              "      <th>4</th>\n",
              "      <td>2022-12-01 09:34:43.618</td>\n",
              "      <td>0.03</td>\n",
              "      <td>-0.01</td>\n",
              "      <td>0.99</td>\n",
              "      <td>-0.24</td>\n",
              "      <td>-3.72</td>\n",
              "      <td>-0.18</td>\n",
              "      <td>-3.27</td>\n",
              "      <td>-12.04</td>\n",
              "      <td>-44.25</td>\n",
              "    </tr>\n",
              "  </tbody>\n",
              "</table>\n",
              "</div>\n",
              "      <button class=\"colab-df-convert\" onclick=\"convertToInteractive('df-f9d14af6-f99b-4a69-a2c3-708a0ae1c05a')\"\n",
              "              title=\"Convert this dataframe to an interactive table.\"\n",
              "              style=\"display:none;\">\n",
              "        \n",
              "  <svg xmlns=\"http://www.w3.org/2000/svg\" height=\"24px\"viewBox=\"0 0 24 24\"\n",
              "       width=\"24px\">\n",
              "    <path d=\"M0 0h24v24H0V0z\" fill=\"none\"/>\n",
              "    <path d=\"M18.56 5.44l.94 2.06.94-2.06 2.06-.94-2.06-.94-.94-2.06-.94 2.06-2.06.94zm-11 1L8.5 8.5l.94-2.06 2.06-.94-2.06-.94L8.5 2.5l-.94 2.06-2.06.94zm10 10l.94 2.06.94-2.06 2.06-.94-2.06-.94-.94-2.06-.94 2.06-2.06.94z\"/><path d=\"M17.41 7.96l-1.37-1.37c-.4-.4-.92-.59-1.43-.59-.52 0-1.04.2-1.43.59L10.3 9.45l-7.72 7.72c-.78.78-.78 2.05 0 2.83L4 21.41c.39.39.9.59 1.41.59.51 0 1.02-.2 1.41-.59l7.78-7.78 2.81-2.81c.8-.78.8-2.07 0-2.86zM5.41 20L4 18.59l7.72-7.72 1.47 1.35L5.41 20z\"/>\n",
              "  </svg>\n",
              "      </button>\n",
              "      \n",
              "  <style>\n",
              "    .colab-df-container {\n",
              "      display:flex;\n",
              "      flex-wrap:wrap;\n",
              "      gap: 12px;\n",
              "    }\n",
              "\n",
              "    .colab-df-convert {\n",
              "      background-color: #E8F0FE;\n",
              "      border: none;\n",
              "      border-radius: 50%;\n",
              "      cursor: pointer;\n",
              "      display: none;\n",
              "      fill: #1967D2;\n",
              "      height: 32px;\n",
              "      padding: 0 0 0 0;\n",
              "      width: 32px;\n",
              "    }\n",
              "\n",
              "    .colab-df-convert:hover {\n",
              "      background-color: #E2EBFA;\n",
              "      box-shadow: 0px 1px 2px rgba(60, 64, 67, 0.3), 0px 1px 3px 1px rgba(60, 64, 67, 0.15);\n",
              "      fill: #174EA6;\n",
              "    }\n",
              "\n",
              "    [theme=dark] .colab-df-convert {\n",
              "      background-color: #3B4455;\n",
              "      fill: #D2E3FC;\n",
              "    }\n",
              "\n",
              "    [theme=dark] .colab-df-convert:hover {\n",
              "      background-color: #434B5C;\n",
              "      box-shadow: 0px 1px 3px 1px rgba(0, 0, 0, 0.15);\n",
              "      filter: drop-shadow(0px 1px 2px rgba(0, 0, 0, 0.3));\n",
              "      fill: #FFFFFF;\n",
              "    }\n",
              "  </style>\n",
              "\n",
              "      <script>\n",
              "        const buttonEl =\n",
              "          document.querySelector('#df-f9d14af6-f99b-4a69-a2c3-708a0ae1c05a button.colab-df-convert');\n",
              "        buttonEl.style.display =\n",
              "          google.colab.kernel.accessAllowed ? 'block' : 'none';\n",
              "\n",
              "        async function convertToInteractive(key) {\n",
              "          const element = document.querySelector('#df-f9d14af6-f99b-4a69-a2c3-708a0ae1c05a');\n",
              "          const dataTable =\n",
              "            await google.colab.kernel.invokeFunction('convertToInteractive',\n",
              "                                                     [key], {});\n",
              "          if (!dataTable) return;\n",
              "\n",
              "          const docLinkHtml = 'Like what you see? Visit the ' +\n",
              "            '<a target=\"_blank\" href=https://colab.research.google.com/notebooks/data_table.ipynb>data table notebook</a>'\n",
              "            + ' to learn more about interactive tables.';\n",
              "          element.innerHTML = '';\n",
              "          dataTable['output_type'] = 'display_data';\n",
              "          await google.colab.output.renderOutput(dataTable, element);\n",
              "          const docLink = document.createElement('div');\n",
              "          docLink.innerHTML = docLinkHtml;\n",
              "          element.appendChild(docLink);\n",
              "        }\n",
              "      </script>\n",
              "    </div>\n",
              "  </div>\n",
              "  "
            ]
          },
          "metadata": {},
          "execution_count": 27
        }
      ]
    },
    {
      "cell_type": "markdown",
      "metadata": {
        "id": "ndt4b_ZTwlz1"
      },
      "source": [
        "#### Set date as index of timestamp"
      ]
    },
    {
      "cell_type": "code",
      "metadata": {
        "id": "V6MpkrDhwlz2"
      },
      "source": [
        "iot_data.set_index('date',inplace=True)"
      ],
      "execution_count": null,
      "outputs": []
    },
    {
      "cell_type": "code",
      "metadata": {
        "colab": {
          "base_uri": "https://localhost:8080/",
          "height": 237
        },
        "id": "w9ztE8jDUAta",
        "outputId": "c5702d2d-e8a0-44b8-edf7-89e9d0edfc00"
      },
      "source": [
        "iot_data.head()"
      ],
      "execution_count": null,
      "outputs": [
        {
          "output_type": "execute_result",
          "data": {
            "text/plain": [
              "                         accel_x  accel_y  accel_z  gyro_x  gyro_y  gyro_z  \\\n",
              "date                                                                         \n",
              "2022-12-01 09:34:41.583     0.03    -0.01     0.99   -0.37   -3.72   -0.24   \n",
              "2022-12-01 09:34:42.092     0.03    -0.01     0.99   -0.43   -3.48   -0.31   \n",
              "2022-12-01 09:34:42.600     0.03    -0.01     0.99   -0.31   -3.72   -0.12   \n",
              "2022-12-01 09:34:43.109     0.03    -0.01     0.99   -0.37   -3.54   -0.24   \n",
              "2022-12-01 09:34:43.618     0.03    -0.01     0.99   -0.24   -3.72   -0.18   \n",
              "\n",
              "                         mag_x  mag_y  mag_z  \n",
              "date                                          \n",
              "2022-12-01 09:34:41.583  -3.47 -10.40 -43.73  \n",
              "2022-12-01 09:34:42.092  -2.89 -12.07 -44.97  \n",
              "2022-12-01 09:34:42.600  -3.36 -12.07 -45.67  \n",
              "2022-12-01 09:34:43.109  -3.52 -11.96 -44.63  \n",
              "2022-12-01 09:34:43.618  -3.27 -12.04 -44.25  "
            ],
            "text/html": [
              "\n",
              "  <div id=\"df-8a63743a-5fdc-409d-8115-e66120114e25\">\n",
              "    <div class=\"colab-df-container\">\n",
              "      <div>\n",
              "<style scoped>\n",
              "    .dataframe tbody tr th:only-of-type {\n",
              "        vertical-align: middle;\n",
              "    }\n",
              "\n",
              "    .dataframe tbody tr th {\n",
              "        vertical-align: top;\n",
              "    }\n",
              "\n",
              "    .dataframe thead th {\n",
              "        text-align: right;\n",
              "    }\n",
              "</style>\n",
              "<table border=\"1\" class=\"dataframe\">\n",
              "  <thead>\n",
              "    <tr style=\"text-align: right;\">\n",
              "      <th></th>\n",
              "      <th>accel_x</th>\n",
              "      <th>accel_y</th>\n",
              "      <th>accel_z</th>\n",
              "      <th>gyro_x</th>\n",
              "      <th>gyro_y</th>\n",
              "      <th>gyro_z</th>\n",
              "      <th>mag_x</th>\n",
              "      <th>mag_y</th>\n",
              "      <th>mag_z</th>\n",
              "    </tr>\n",
              "    <tr>\n",
              "      <th>date</th>\n",
              "      <th></th>\n",
              "      <th></th>\n",
              "      <th></th>\n",
              "      <th></th>\n",
              "      <th></th>\n",
              "      <th></th>\n",
              "      <th></th>\n",
              "      <th></th>\n",
              "      <th></th>\n",
              "    </tr>\n",
              "  </thead>\n",
              "  <tbody>\n",
              "    <tr>\n",
              "      <th>2022-12-01 09:34:41.583</th>\n",
              "      <td>0.03</td>\n",
              "      <td>-0.01</td>\n",
              "      <td>0.99</td>\n",
              "      <td>-0.37</td>\n",
              "      <td>-3.72</td>\n",
              "      <td>-0.24</td>\n",
              "      <td>-3.47</td>\n",
              "      <td>-10.40</td>\n",
              "      <td>-43.73</td>\n",
              "    </tr>\n",
              "    <tr>\n",
              "      <th>2022-12-01 09:34:42.092</th>\n",
              "      <td>0.03</td>\n",
              "      <td>-0.01</td>\n",
              "      <td>0.99</td>\n",
              "      <td>-0.43</td>\n",
              "      <td>-3.48</td>\n",
              "      <td>-0.31</td>\n",
              "      <td>-2.89</td>\n",
              "      <td>-12.07</td>\n",
              "      <td>-44.97</td>\n",
              "    </tr>\n",
              "    <tr>\n",
              "      <th>2022-12-01 09:34:42.600</th>\n",
              "      <td>0.03</td>\n",
              "      <td>-0.01</td>\n",
              "      <td>0.99</td>\n",
              "      <td>-0.31</td>\n",
              "      <td>-3.72</td>\n",
              "      <td>-0.12</td>\n",
              "      <td>-3.36</td>\n",
              "      <td>-12.07</td>\n",
              "      <td>-45.67</td>\n",
              "    </tr>\n",
              "    <tr>\n",
              "      <th>2022-12-01 09:34:43.109</th>\n",
              "      <td>0.03</td>\n",
              "      <td>-0.01</td>\n",
              "      <td>0.99</td>\n",
              "      <td>-0.37</td>\n",
              "      <td>-3.54</td>\n",
              "      <td>-0.24</td>\n",
              "      <td>-3.52</td>\n",
              "      <td>-11.96</td>\n",
              "      <td>-44.63</td>\n",
              "    </tr>\n",
              "    <tr>\n",
              "      <th>2022-12-01 09:34:43.618</th>\n",
              "      <td>0.03</td>\n",
              "      <td>-0.01</td>\n",
              "      <td>0.99</td>\n",
              "      <td>-0.24</td>\n",
              "      <td>-3.72</td>\n",
              "      <td>-0.18</td>\n",
              "      <td>-3.27</td>\n",
              "      <td>-12.04</td>\n",
              "      <td>-44.25</td>\n",
              "    </tr>\n",
              "  </tbody>\n",
              "</table>\n",
              "</div>\n",
              "      <button class=\"colab-df-convert\" onclick=\"convertToInteractive('df-8a63743a-5fdc-409d-8115-e66120114e25')\"\n",
              "              title=\"Convert this dataframe to an interactive table.\"\n",
              "              style=\"display:none;\">\n",
              "        \n",
              "  <svg xmlns=\"http://www.w3.org/2000/svg\" height=\"24px\"viewBox=\"0 0 24 24\"\n",
              "       width=\"24px\">\n",
              "    <path d=\"M0 0h24v24H0V0z\" fill=\"none\"/>\n",
              "    <path d=\"M18.56 5.44l.94 2.06.94-2.06 2.06-.94-2.06-.94-.94-2.06-.94 2.06-2.06.94zm-11 1L8.5 8.5l.94-2.06 2.06-.94-2.06-.94L8.5 2.5l-.94 2.06-2.06.94zm10 10l.94 2.06.94-2.06 2.06-.94-2.06-.94-.94-2.06-.94 2.06-2.06.94z\"/><path d=\"M17.41 7.96l-1.37-1.37c-.4-.4-.92-.59-1.43-.59-.52 0-1.04.2-1.43.59L10.3 9.45l-7.72 7.72c-.78.78-.78 2.05 0 2.83L4 21.41c.39.39.9.59 1.41.59.51 0 1.02-.2 1.41-.59l7.78-7.78 2.81-2.81c.8-.78.8-2.07 0-2.86zM5.41 20L4 18.59l7.72-7.72 1.47 1.35L5.41 20z\"/>\n",
              "  </svg>\n",
              "      </button>\n",
              "      \n",
              "  <style>\n",
              "    .colab-df-container {\n",
              "      display:flex;\n",
              "      flex-wrap:wrap;\n",
              "      gap: 12px;\n",
              "    }\n",
              "\n",
              "    .colab-df-convert {\n",
              "      background-color: #E8F0FE;\n",
              "      border: none;\n",
              "      border-radius: 50%;\n",
              "      cursor: pointer;\n",
              "      display: none;\n",
              "      fill: #1967D2;\n",
              "      height: 32px;\n",
              "      padding: 0 0 0 0;\n",
              "      width: 32px;\n",
              "    }\n",
              "\n",
              "    .colab-df-convert:hover {\n",
              "      background-color: #E2EBFA;\n",
              "      box-shadow: 0px 1px 2px rgba(60, 64, 67, 0.3), 0px 1px 3px 1px rgba(60, 64, 67, 0.15);\n",
              "      fill: #174EA6;\n",
              "    }\n",
              "\n",
              "    [theme=dark] .colab-df-convert {\n",
              "      background-color: #3B4455;\n",
              "      fill: #D2E3FC;\n",
              "    }\n",
              "\n",
              "    [theme=dark] .colab-df-convert:hover {\n",
              "      background-color: #434B5C;\n",
              "      box-shadow: 0px 1px 3px 1px rgba(0, 0, 0, 0.15);\n",
              "      filter: drop-shadow(0px 1px 2px rgba(0, 0, 0, 0.3));\n",
              "      fill: #FFFFFF;\n",
              "    }\n",
              "  </style>\n",
              "\n",
              "      <script>\n",
              "        const buttonEl =\n",
              "          document.querySelector('#df-8a63743a-5fdc-409d-8115-e66120114e25 button.colab-df-convert');\n",
              "        buttonEl.style.display =\n",
              "          google.colab.kernel.accessAllowed ? 'block' : 'none';\n",
              "\n",
              "        async function convertToInteractive(key) {\n",
              "          const element = document.querySelector('#df-8a63743a-5fdc-409d-8115-e66120114e25');\n",
              "          const dataTable =\n",
              "            await google.colab.kernel.invokeFunction('convertToInteractive',\n",
              "                                                     [key], {});\n",
              "          if (!dataTable) return;\n",
              "\n",
              "          const docLinkHtml = 'Like what you see? Visit the ' +\n",
              "            '<a target=\"_blank\" href=https://colab.research.google.com/notebooks/data_table.ipynb>data table notebook</a>'\n",
              "            + ' to learn more about interactive tables.';\n",
              "          element.innerHTML = '';\n",
              "          dataTable['output_type'] = 'display_data';\n",
              "          await google.colab.output.renderOutput(dataTable, element);\n",
              "          const docLink = document.createElement('div');\n",
              "          docLink.innerHTML = docLinkHtml;\n",
              "          element.appendChild(docLink);\n",
              "        }\n",
              "      </script>\n",
              "    </div>\n",
              "  </div>\n",
              "  "
            ]
          },
          "metadata": {},
          "execution_count": 29
        }
      ]
    },
    {
      "cell_type": "code",
      "metadata": {
        "colab": {
          "base_uri": "https://localhost:8080/"
        },
        "id": "HR2XersJUIH2",
        "outputId": "9d084ce9-5c80-4119-bc62-cf9160535e67"
      },
      "source": [
        "iot_data.info()"
      ],
      "execution_count": null,
      "outputs": [
        {
          "output_type": "stream",
          "name": "stdout",
          "text": [
            "<class 'pandas.core.frame.DataFrame'>\n",
            "DatetimeIndex: 39565 entries, 2022-12-01 09:34:41.583000 to 2022-12-14 21:47:25.124000\n",
            "Data columns (total 9 columns):\n",
            " #   Column   Non-Null Count  Dtype  \n",
            "---  ------   --------------  -----  \n",
            " 0   accel_x  39565 non-null  float64\n",
            " 1   accel_y  39565 non-null  float64\n",
            " 2   accel_z  39565 non-null  float64\n",
            " 3   gyro_x   39565 non-null  float64\n",
            " 4   gyro_y   39565 non-null  float64\n",
            " 5   gyro_z   39565 non-null  float64\n",
            " 6   mag_x    39565 non-null  float64\n",
            " 7   mag_y    39565 non-null  float64\n",
            " 8   mag_z    39565 non-null  float64\n",
            "dtypes: float64(9)\n",
            "memory usage: 3.0 MB\n"
          ]
        }
      ]
    },
    {
      "cell_type": "code",
      "metadata": {
        "id": "g1MtmghfiQk7"
      },
      "source": [
        "# Convert date index to Datetime index, 중요!!!\n",
        "iot_data.index = pd.to_datetime(iot_data.index)"
      ],
      "execution_count": null,
      "outputs": []
    },
    {
      "cell_type": "code",
      "metadata": {
        "colab": {
          "base_uri": "https://localhost:8080/"
        },
        "id": "gY7QvLKbwlz5",
        "outputId": "b613b83c-94cd-4d07-816a-8256e7ecaa0b"
      },
      "source": [
        "iot_data.info() # Range index -> timestamp(Datetime) index "
      ],
      "execution_count": null,
      "outputs": [
        {
          "output_type": "stream",
          "name": "stdout",
          "text": [
            "<class 'pandas.core.frame.DataFrame'>\n",
            "DatetimeIndex: 39565 entries, 2022-12-01 09:34:41.583000 to 2022-12-14 21:47:25.124000\n",
            "Data columns (total 9 columns):\n",
            " #   Column   Non-Null Count  Dtype  \n",
            "---  ------   --------------  -----  \n",
            " 0   accel_x  39565 non-null  float64\n",
            " 1   accel_y  39565 non-null  float64\n",
            " 2   accel_z  39565 non-null  float64\n",
            " 3   gyro_x   39565 non-null  float64\n",
            " 4   gyro_y   39565 non-null  float64\n",
            " 5   gyro_z   39565 non-null  float64\n",
            " 6   mag_x    39565 non-null  float64\n",
            " 7   mag_y    39565 non-null  float64\n",
            " 8   mag_z    39565 non-null  float64\n",
            "dtypes: float64(9)\n",
            "memory usage: 3.0 MB\n"
          ]
        }
      ]
    },
    {
      "cell_type": "code",
      "metadata": {
        "colab": {
          "base_uri": "https://localhost:8080/",
          "height": 455
        },
        "id": "TDkJgBRJwl0D",
        "outputId": "96c994e6-6519-44a0-9630-dedfe8c879d8"
      },
      "source": [
        "# Estimate the mean of the iot data for every minute\n",
        "iot_data.resample('60S').mean()"
      ],
      "execution_count": null,
      "outputs": [
        {
          "output_type": "execute_result",
          "data": {
            "text/plain": [
              "                      accel_x   accel_y   accel_z    gyro_x    gyro_y  \\\n",
              "date                                                                    \n",
              "2022-12-01 09:34:00  0.030000 -0.010000  0.990000 -0.343243 -3.678919   \n",
              "2022-12-01 09:35:00  0.034051 -0.007975  0.991646  0.706962 -3.748734   \n",
              "2022-12-01 09:36:00  0.030000 -0.010000  0.989048 -0.351429 -3.969524   \n",
              "2022-12-01 09:37:00  0.030000 -0.010000  0.990000 -0.318305 -3.919661   \n",
              "2022-12-01 09:38:00  0.030000 -0.010000  0.990000 -0.340000 -3.932288   \n",
              "...                       ...       ...       ...       ...       ...   \n",
              "2022-12-14 21:43:00  0.030000 -0.010000  0.990000 -0.325593 -3.906186   \n",
              "2022-12-14 21:44:00  0.029744 -0.010000  0.990000 -0.319145 -3.933761   \n",
              "2022-12-14 21:45:00  0.030254 -0.010000  0.990000 -0.319576 -3.931441   \n",
              "2022-12-14 21:46:00  0.030000 -0.010000  0.990000 -0.330085 -3.934492   \n",
              "2022-12-14 21:47:00  0.030000 -0.010000  0.990000 -0.327400 -3.915400   \n",
              "\n",
              "                       gyro_z      mag_x      mag_y      mag_z  \n",
              "date                                                            \n",
              "2022-12-01 09:34:00 -0.245135  -3.350541 -11.338108 -44.458378  \n",
              "2022-12-01 09:35:00  2.790633  -5.630253  -7.770127 -44.015696  \n",
              "2022-12-01 09:36:00 -0.306667 -21.542381  14.250000 -40.706667  \n",
              "2022-12-01 09:37:00 -0.285339 -21.683220  14.094915 -40.948814  \n",
              "2022-12-01 09:38:00 -0.319746 -21.590763  14.022881 -40.549492  \n",
              "...                       ...        ...        ...        ...  \n",
              "2022-12-14 21:43:00 -0.439068 -19.469153  22.660932 -40.136864  \n",
              "2022-12-14 21:44:00 -0.448462 -19.264274  22.637265 -39.913675  \n",
              "2022-12-14 21:45:00 -0.437034 -19.048729  22.602797 -40.102119  \n",
              "2022-12-14 21:46:00 -0.451780 -19.410508  22.753898 -40.330932  \n",
              "2022-12-14 21:47:00 -0.438400 -19.310600  22.586200 -40.383000  \n",
              "\n",
              "[19454 rows x 9 columns]"
            ],
            "text/html": [
              "\n",
              "  <div id=\"df-ed9c91d5-126c-414e-a3dd-3f30663b7416\">\n",
              "    <div class=\"colab-df-container\">\n",
              "      <div>\n",
              "<style scoped>\n",
              "    .dataframe tbody tr th:only-of-type {\n",
              "        vertical-align: middle;\n",
              "    }\n",
              "\n",
              "    .dataframe tbody tr th {\n",
              "        vertical-align: top;\n",
              "    }\n",
              "\n",
              "    .dataframe thead th {\n",
              "        text-align: right;\n",
              "    }\n",
              "</style>\n",
              "<table border=\"1\" class=\"dataframe\">\n",
              "  <thead>\n",
              "    <tr style=\"text-align: right;\">\n",
              "      <th></th>\n",
              "      <th>accel_x</th>\n",
              "      <th>accel_y</th>\n",
              "      <th>accel_z</th>\n",
              "      <th>gyro_x</th>\n",
              "      <th>gyro_y</th>\n",
              "      <th>gyro_z</th>\n",
              "      <th>mag_x</th>\n",
              "      <th>mag_y</th>\n",
              "      <th>mag_z</th>\n",
              "    </tr>\n",
              "    <tr>\n",
              "      <th>date</th>\n",
              "      <th></th>\n",
              "      <th></th>\n",
              "      <th></th>\n",
              "      <th></th>\n",
              "      <th></th>\n",
              "      <th></th>\n",
              "      <th></th>\n",
              "      <th></th>\n",
              "      <th></th>\n",
              "    </tr>\n",
              "  </thead>\n",
              "  <tbody>\n",
              "    <tr>\n",
              "      <th>2022-12-01 09:34:00</th>\n",
              "      <td>0.030000</td>\n",
              "      <td>-0.010000</td>\n",
              "      <td>0.990000</td>\n",
              "      <td>-0.343243</td>\n",
              "      <td>-3.678919</td>\n",
              "      <td>-0.245135</td>\n",
              "      <td>-3.350541</td>\n",
              "      <td>-11.338108</td>\n",
              "      <td>-44.458378</td>\n",
              "    </tr>\n",
              "    <tr>\n",
              "      <th>2022-12-01 09:35:00</th>\n",
              "      <td>0.034051</td>\n",
              "      <td>-0.007975</td>\n",
              "      <td>0.991646</td>\n",
              "      <td>0.706962</td>\n",
              "      <td>-3.748734</td>\n",
              "      <td>2.790633</td>\n",
              "      <td>-5.630253</td>\n",
              "      <td>-7.770127</td>\n",
              "      <td>-44.015696</td>\n",
              "    </tr>\n",
              "    <tr>\n",
              "      <th>2022-12-01 09:36:00</th>\n",
              "      <td>0.030000</td>\n",
              "      <td>-0.010000</td>\n",
              "      <td>0.989048</td>\n",
              "      <td>-0.351429</td>\n",
              "      <td>-3.969524</td>\n",
              "      <td>-0.306667</td>\n",
              "      <td>-21.542381</td>\n",
              "      <td>14.250000</td>\n",
              "      <td>-40.706667</td>\n",
              "    </tr>\n",
              "    <tr>\n",
              "      <th>2022-12-01 09:37:00</th>\n",
              "      <td>0.030000</td>\n",
              "      <td>-0.010000</td>\n",
              "      <td>0.990000</td>\n",
              "      <td>-0.318305</td>\n",
              "      <td>-3.919661</td>\n",
              "      <td>-0.285339</td>\n",
              "      <td>-21.683220</td>\n",
              "      <td>14.094915</td>\n",
              "      <td>-40.948814</td>\n",
              "    </tr>\n",
              "    <tr>\n",
              "      <th>2022-12-01 09:38:00</th>\n",
              "      <td>0.030000</td>\n",
              "      <td>-0.010000</td>\n",
              "      <td>0.990000</td>\n",
              "      <td>-0.340000</td>\n",
              "      <td>-3.932288</td>\n",
              "      <td>-0.319746</td>\n",
              "      <td>-21.590763</td>\n",
              "      <td>14.022881</td>\n",
              "      <td>-40.549492</td>\n",
              "    </tr>\n",
              "    <tr>\n",
              "      <th>...</th>\n",
              "      <td>...</td>\n",
              "      <td>...</td>\n",
              "      <td>...</td>\n",
              "      <td>...</td>\n",
              "      <td>...</td>\n",
              "      <td>...</td>\n",
              "      <td>...</td>\n",
              "      <td>...</td>\n",
              "      <td>...</td>\n",
              "    </tr>\n",
              "    <tr>\n",
              "      <th>2022-12-14 21:43:00</th>\n",
              "      <td>0.030000</td>\n",
              "      <td>-0.010000</td>\n",
              "      <td>0.990000</td>\n",
              "      <td>-0.325593</td>\n",
              "      <td>-3.906186</td>\n",
              "      <td>-0.439068</td>\n",
              "      <td>-19.469153</td>\n",
              "      <td>22.660932</td>\n",
              "      <td>-40.136864</td>\n",
              "    </tr>\n",
              "    <tr>\n",
              "      <th>2022-12-14 21:44:00</th>\n",
              "      <td>0.029744</td>\n",
              "      <td>-0.010000</td>\n",
              "      <td>0.990000</td>\n",
              "      <td>-0.319145</td>\n",
              "      <td>-3.933761</td>\n",
              "      <td>-0.448462</td>\n",
              "      <td>-19.264274</td>\n",
              "      <td>22.637265</td>\n",
              "      <td>-39.913675</td>\n",
              "    </tr>\n",
              "    <tr>\n",
              "      <th>2022-12-14 21:45:00</th>\n",
              "      <td>0.030254</td>\n",
              "      <td>-0.010000</td>\n",
              "      <td>0.990000</td>\n",
              "      <td>-0.319576</td>\n",
              "      <td>-3.931441</td>\n",
              "      <td>-0.437034</td>\n",
              "      <td>-19.048729</td>\n",
              "      <td>22.602797</td>\n",
              "      <td>-40.102119</td>\n",
              "    </tr>\n",
              "    <tr>\n",
              "      <th>2022-12-14 21:46:00</th>\n",
              "      <td>0.030000</td>\n",
              "      <td>-0.010000</td>\n",
              "      <td>0.990000</td>\n",
              "      <td>-0.330085</td>\n",
              "      <td>-3.934492</td>\n",
              "      <td>-0.451780</td>\n",
              "      <td>-19.410508</td>\n",
              "      <td>22.753898</td>\n",
              "      <td>-40.330932</td>\n",
              "    </tr>\n",
              "    <tr>\n",
              "      <th>2022-12-14 21:47:00</th>\n",
              "      <td>0.030000</td>\n",
              "      <td>-0.010000</td>\n",
              "      <td>0.990000</td>\n",
              "      <td>-0.327400</td>\n",
              "      <td>-3.915400</td>\n",
              "      <td>-0.438400</td>\n",
              "      <td>-19.310600</td>\n",
              "      <td>22.586200</td>\n",
              "      <td>-40.383000</td>\n",
              "    </tr>\n",
              "  </tbody>\n",
              "</table>\n",
              "<p>19454 rows × 9 columns</p>\n",
              "</div>\n",
              "      <button class=\"colab-df-convert\" onclick=\"convertToInteractive('df-ed9c91d5-126c-414e-a3dd-3f30663b7416')\"\n",
              "              title=\"Convert this dataframe to an interactive table.\"\n",
              "              style=\"display:none;\">\n",
              "        \n",
              "  <svg xmlns=\"http://www.w3.org/2000/svg\" height=\"24px\"viewBox=\"0 0 24 24\"\n",
              "       width=\"24px\">\n",
              "    <path d=\"M0 0h24v24H0V0z\" fill=\"none\"/>\n",
              "    <path d=\"M18.56 5.44l.94 2.06.94-2.06 2.06-.94-2.06-.94-.94-2.06-.94 2.06-2.06.94zm-11 1L8.5 8.5l.94-2.06 2.06-.94-2.06-.94L8.5 2.5l-.94 2.06-2.06.94zm10 10l.94 2.06.94-2.06 2.06-.94-2.06-.94-.94-2.06-.94 2.06-2.06.94z\"/><path d=\"M17.41 7.96l-1.37-1.37c-.4-.4-.92-.59-1.43-.59-.52 0-1.04.2-1.43.59L10.3 9.45l-7.72 7.72c-.78.78-.78 2.05 0 2.83L4 21.41c.39.39.9.59 1.41.59.51 0 1.02-.2 1.41-.59l7.78-7.78 2.81-2.81c.8-.78.8-2.07 0-2.86zM5.41 20L4 18.59l7.72-7.72 1.47 1.35L5.41 20z\"/>\n",
              "  </svg>\n",
              "      </button>\n",
              "      \n",
              "  <style>\n",
              "    .colab-df-container {\n",
              "      display:flex;\n",
              "      flex-wrap:wrap;\n",
              "      gap: 12px;\n",
              "    }\n",
              "\n",
              "    .colab-df-convert {\n",
              "      background-color: #E8F0FE;\n",
              "      border: none;\n",
              "      border-radius: 50%;\n",
              "      cursor: pointer;\n",
              "      display: none;\n",
              "      fill: #1967D2;\n",
              "      height: 32px;\n",
              "      padding: 0 0 0 0;\n",
              "      width: 32px;\n",
              "    }\n",
              "\n",
              "    .colab-df-convert:hover {\n",
              "      background-color: #E2EBFA;\n",
              "      box-shadow: 0px 1px 2px rgba(60, 64, 67, 0.3), 0px 1px 3px 1px rgba(60, 64, 67, 0.15);\n",
              "      fill: #174EA6;\n",
              "    }\n",
              "\n",
              "    [theme=dark] .colab-df-convert {\n",
              "      background-color: #3B4455;\n",
              "      fill: #D2E3FC;\n",
              "    }\n",
              "\n",
              "    [theme=dark] .colab-df-convert:hover {\n",
              "      background-color: #434B5C;\n",
              "      box-shadow: 0px 1px 3px 1px rgba(0, 0, 0, 0.15);\n",
              "      filter: drop-shadow(0px 1px 2px rgba(0, 0, 0, 0.3));\n",
              "      fill: #FFFFFF;\n",
              "    }\n",
              "  </style>\n",
              "\n",
              "      <script>\n",
              "        const buttonEl =\n",
              "          document.querySelector('#df-ed9c91d5-126c-414e-a3dd-3f30663b7416 button.colab-df-convert');\n",
              "        buttonEl.style.display =\n",
              "          google.colab.kernel.accessAllowed ? 'block' : 'none';\n",
              "\n",
              "        async function convertToInteractive(key) {\n",
              "          const element = document.querySelector('#df-ed9c91d5-126c-414e-a3dd-3f30663b7416');\n",
              "          const dataTable =\n",
              "            await google.colab.kernel.invokeFunction('convertToInteractive',\n",
              "                                                     [key], {});\n",
              "          if (!dataTable) return;\n",
              "\n",
              "          const docLinkHtml = 'Like what you see? Visit the ' +\n",
              "            '<a target=\"_blank\" href=https://colab.research.google.com/notebooks/data_table.ipynb>data table notebook</a>'\n",
              "            + ' to learn more about interactive tables.';\n",
              "          element.innerHTML = '';\n",
              "          dataTable['output_type'] = 'display_data';\n",
              "          await google.colab.output.renderOutput(dataTable, element);\n",
              "          const docLink = document.createElement('div');\n",
              "          docLink.innerHTML = docLinkHtml;\n",
              "          element.appendChild(docLink);\n",
              "        }\n",
              "      </script>\n",
              "    </div>\n",
              "  </div>\n",
              "  "
            ]
          },
          "metadata": {},
          "execution_count": 35
        }
      ]
    },
    {
      "cell_type": "code",
      "metadata": {
        "colab": {
          "base_uri": "https://localhost:8080/",
          "height": 389
        },
        "id": "pTaucOzzwl0H",
        "outputId": "3cbc3c0c-312a-4d78-e264-6deeb5a92ca7"
      },
      "source": [
        "#  Plot mean of the all iot data per every minute\n",
        "iot_data.resample('60S').mean().plot(figsize=(8,5), \n",
        "                                     title='Minutely change of Acc, Gyro, Mag')\n",
        "plt.legend(bbox_to_anchor=(1.02, 1.0))"
      ],
      "execution_count": null,
      "outputs": [
        {
          "output_type": "execute_result",
          "data": {
            "text/plain": [
              "<matplotlib.legend.Legend at 0x7f8a7f5ed400>"
            ]
          },
          "metadata": {},
          "execution_count": 36
        },
        {
          "output_type": "display_data",
          "data": {
            "text/plain": [
              "<Figure size 576x360 with 1 Axes>"
            ],
            "image/png": "[encoded data removed]"
          },
          "metadata": {
            "needs_background": "light"
          }
        }
      ]
    },
    {
      "cell_type": "markdown",
      "source": [
        "### [DIY-5]  아래 코드를 참조해서 Ay,Gy,My의 2분 평균값의 변화를 보여 주는 그래프를 그리시오."
      ],
      "metadata": {
        "id": "9z0suCUnyY2p"
      }
    },
    {
      "cell_type": "code",
      "metadata": {
        "colab": {
          "base_uri": "https://localhost:8080/",
          "height": 538
        },
        "id": "12Ydfv9ULNBl",
        "outputId": "e589f867-849b-4af1-9037-74e178c8b55a"
      },
      "source": [
        "#  Plot mean of the iot data per every minute\n",
        "iot_data[['r_ratio', 'g_ratio', 'b_ratio']].resample('60S').mean().plot(figsize=(10,5), \n",
        "                                     title='Minutely change of R, G, B',\n",
        "                                     color=\"rgb\")"
      ],
      "execution_count": null,
      "outputs": [
        {
          "output_type": "execute_result",
          "data": {
            "text/plain": [
              "<matplotlib.axes._subplots.AxesSubplot at 0x7fdc20fd9410>"
            ]
          },
          "metadata": {},
          "execution_count": 58
        },
        {
          "output_type": "display_data",
          "data": {
            "text/plain": [
              "<Figure size 1000x500 with 1 Axes>"
            ],
            "image/png": "[encoded data removed]"
          },
          "metadata": {}
        }
      ]
    },
    {
      "cell_type": "markdown",
      "source": [
        "### 시간 평균 변화화"
      ],
      "metadata": {
        "id": "e4BFrgsR0EUM"
      }
    },
    {
      "cell_type": "code",
      "metadata": {
        "colab": {
          "base_uri": "https://localhost:8080/",
          "height": 455
        },
        "id": "cMHVdg3awl0M",
        "outputId": "5a07546d-70b4-42ec-a581-09e1d96b7abc"
      },
      "source": [
        "# Estimate the mean of iot data for every hour\n",
        "iot_data.resample('H').mean()  # mean per each hour"
      ],
      "execution_count": null,
      "outputs": [
        {
          "output_type": "execute_result",
          "data": {
            "text/plain": [
              "                      accel_x   accel_y   accel_z    gyro_x    gyro_y  \\\n",
              "date                                                                    \n",
              "2022-12-01 09:00:00  0.033041 -0.013745  0.984660 -0.133014 -3.889613   \n",
              "2022-12-01 10:00:00  0.030548 -0.018995  0.971100 -0.230052 -3.540655   \n",
              "2022-12-01 11:00:00  0.019688  0.000022  0.990000 -0.347678 -3.764490   \n",
              "2022-12-01 12:00:00  0.019940  0.000000  0.990000 -0.357716 -3.757453   \n",
              "2022-12-01 13:00:00  0.019996 -0.000004  0.990000 -0.343426 -3.743278   \n",
              "...                       ...       ...       ...       ...       ...   \n",
              "2022-12-14 17:00:00       NaN       NaN       NaN       NaN       NaN   \n",
              "2022-12-14 18:00:00       NaN       NaN       NaN       NaN       NaN   \n",
              "2022-12-14 19:00:00       NaN       NaN       NaN       NaN       NaN   \n",
              "2022-12-14 20:00:00  0.030016 -0.010000  0.990005 -0.321516 -3.946050   \n",
              "2022-12-14 21:00:00  0.029989 -0.010000  0.990011 -0.304020 -3.897109   \n",
              "\n",
              "                       gyro_z      mag_x      mag_y      mag_z  \n",
              "date                                                            \n",
              "2022-12-01 09:00:00 -0.450188 -20.894789  17.072326 -40.653081  \n",
              "2022-12-01 10:00:00 -0.099009 -10.921533  -1.961242 -39.472359  \n",
              "2022-12-01 11:00:00 -0.359796  -4.010734 -11.106479 -40.346888  \n",
              "2022-12-01 12:00:00 -0.374005  -4.139647 -11.129482 -40.364207  \n",
              "2022-12-01 13:00:00 -0.370058  -4.236725 -11.116766 -40.475580  \n",
              "...                       ...        ...        ...        ...  \n",
              "2022-12-14 17:00:00       NaN        NaN        NaN        NaN  \n",
              "2022-12-14 18:00:00       NaN        NaN        NaN        NaN  \n",
              "2022-12-14 19:00:00       NaN        NaN        NaN        NaN  \n",
              "2022-12-14 20:00:00 -0.434071 -19.332202  22.628939 -39.956724  \n",
              "2022-12-14 21:00:00 -0.431369 -19.309819  22.463651 -40.317118  \n",
              "\n",
              "[325 rows x 9 columns]"
            ],
            "text/html": [
              "\n",
              "  <div id=\"df-d5d52955-79e6-434d-ac9e-8d3a0f12da4d\">\n",
              "    <div class=\"colab-df-container\">\n",
              "      <div>\n",
              "<style scoped>\n",
              "    .dataframe tbody tr th:only-of-type {\n",
              "        vertical-align: middle;\n",
              "    }\n",
              "\n",
              "    .dataframe tbody tr th {\n",
              "        vertical-align: top;\n",
              "    }\n",
              "\n",
              "    .dataframe thead th {\n",
              "        text-align: right;\n",
              "    }\n",
              "</style>\n",
              "<table border=\"1\" class=\"dataframe\">\n",
              "  <thead>\n",
              "    <tr style=\"text-align: right;\">\n",
              "      <th></th>\n",
              "      <th>accel_x</th>\n",
              "      <th>accel_y</th>\n",
              "      <th>accel_z</th>\n",
              "      <th>gyro_x</th>\n",
              "      <th>gyro_y</th>\n",
              "      <th>gyro_z</th>\n",
              "      <th>mag_x</th>\n",
              "      <th>mag_y</th>\n",
              "      <th>mag_z</th>\n",
              "    </tr>\n",
              "    <tr>\n",
              "      <th>date</th>\n",
              "      <th></th>\n",
              "      <th></th>\n",
              "      <th></th>\n",
              "      <th></th>\n",
              "      <th></th>\n",
              "      <th></th>\n",
              "      <th></th>\n",
              "      <th></th>\n",
              "      <th></th>\n",
              "    </tr>\n",
              "  </thead>\n",
              "  <tbody>\n",
              "    <tr>\n",
              "      <th>2022-12-01 09:00:00</th>\n",
              "      <td>0.033041</td>\n",
              "      <td>-0.013745</td>\n",
              "      <td>0.984660</td>\n",
              "      <td>-0.133014</td>\n",
              "      <td>-3.889613</td>\n",
              "      <td>-0.450188</td>\n",
              "      <td>-20.894789</td>\n",
              "      <td>17.072326</td>\n",
              "      <td>-40.653081</td>\n",
              "    </tr>\n",
              "    <tr>\n",
              "      <th>2022-12-01 10:00:00</th>\n",
              "      <td>0.030548</td>\n",
              "      <td>-0.018995</td>\n",
              "      <td>0.971100</td>\n",
              "      <td>-0.230052</td>\n",
              "      <td>-3.540655</td>\n",
              "      <td>-0.099009</td>\n",
              "      <td>-10.921533</td>\n",
              "      <td>-1.961242</td>\n",
              "      <td>-39.472359</td>\n",
              "    </tr>\n",
              "    <tr>\n",
              "      <th>2022-12-01 11:00:00</th>\n",
              "      <td>0.019688</td>\n",
              "      <td>0.000022</td>\n",
              "      <td>0.990000</td>\n",
              "      <td>-0.347678</td>\n",
              "      <td>-3.764490</td>\n",
              "      <td>-0.359796</td>\n",
              "      <td>-4.010734</td>\n",
              "      <td>-11.106479</td>\n",
              "      <td>-40.346888</td>\n",
              "    </tr>\n",
              "    <tr>\n",
              "      <th>2022-12-01 12:00:00</th>\n",
              "      <td>0.019940</td>\n",
              "      <td>0.000000</td>\n",
              "      <td>0.990000</td>\n",
              "      <td>-0.357716</td>\n",
              "      <td>-3.757453</td>\n",
              "      <td>-0.374005</td>\n",
              "      <td>-4.139647</td>\n",
              "      <td>-11.129482</td>\n",
              "      <td>-40.364207</td>\n",
              "    </tr>\n",
              "    <tr>\n",
              "      <th>2022-12-01 13:00:00</th>\n",
              "      <td>0.019996</td>\n",
              "      <td>-0.000004</td>\n",
              "      <td>0.990000</td>\n",
              "      <td>-0.343426</td>\n",
              "      <td>-3.743278</td>\n",
              "      <td>-0.370058</td>\n",
              "      <td>-4.236725</td>\n",
              "      <td>-11.116766</td>\n",
              "      <td>-40.475580</td>\n",
              "    </tr>\n",
              "    <tr>\n",
              "      <th>...</th>\n",
              "      <td>...</td>\n",
              "      <td>...</td>\n",
              "      <td>...</td>\n",
              "      <td>...</td>\n",
              "      <td>...</td>\n",
              "      <td>...</td>\n",
              "      <td>...</td>\n",
              "      <td>...</td>\n",
              "      <td>...</td>\n",
              "    </tr>\n",
              "    <tr>\n",
              "      <th>2022-12-14 17:00:00</th>\n",
              "      <td>NaN</td>\n",
              "      <td>NaN</td>\n",
              "      <td>NaN</td>\n",
              "      <td>NaN</td>\n",
              "      <td>NaN</td>\n",
              "      <td>NaN</td>\n",
              "      <td>NaN</td>\n",
              "      <td>NaN</td>\n",
              "      <td>NaN</td>\n",
              "    </tr>\n",
              "    <tr>\n",
              "      <th>2022-12-14 18:00:00</th>\n",
              "      <td>NaN</td>\n",
              "      <td>NaN</td>\n",
              "      <td>NaN</td>\n",
              "      <td>NaN</td>\n",
              "      <td>NaN</td>\n",
              "      <td>NaN</td>\n",
              "      <td>NaN</td>\n",
              "      <td>NaN</td>\n",
              "      <td>NaN</td>\n",
              "    </tr>\n",
              "    <tr>\n",
              "      <th>2022-12-14 19:00:00</th>\n",
              "      <td>NaN</td>\n",
              "      <td>NaN</td>\n",
              "      <td>NaN</td>\n",
              "      <td>NaN</td>\n",
              "      <td>NaN</td>\n",
              "      <td>NaN</td>\n",
              "      <td>NaN</td>\n",
              "      <td>NaN</td>\n",
              "      <td>NaN</td>\n",
              "    </tr>\n",
              "    <tr>\n",
              "      <th>2022-12-14 20:00:00</th>\n",
              "      <td>0.030016</td>\n",
              "      <td>-0.010000</td>\n",
              "      <td>0.990005</td>\n",
              "      <td>-0.321516</td>\n",
              "      <td>-3.946050</td>\n",
              "      <td>-0.434071</td>\n",
              "      <td>-19.332202</td>\n",
              "      <td>22.628939</td>\n",
              "      <td>-39.956724</td>\n",
              "    </tr>\n",
              "    <tr>\n",
              "      <th>2022-12-14 21:00:00</th>\n",
              "      <td>0.029989</td>\n",
              "      <td>-0.010000</td>\n",
              "      <td>0.990011</td>\n",
              "      <td>-0.304020</td>\n",
              "      <td>-3.897109</td>\n",
              "      <td>-0.431369</td>\n",
              "      <td>-19.309819</td>\n",
              "      <td>22.463651</td>\n",
              "      <td>-40.317118</td>\n",
              "    </tr>\n",
              "  </tbody>\n",
              "</table>\n",
              "<p>325 rows × 9 columns</p>\n",
              "</div>\n",
              "      <button class=\"colab-df-convert\" onclick=\"convertToInteractive('df-d5d52955-79e6-434d-ac9e-8d3a0f12da4d')\"\n",
              "              title=\"Convert this dataframe to an interactive table.\"\n",
              "              style=\"display:none;\">\n",
              "        \n",
              "  <svg xmlns=\"http://www.w3.org/2000/svg\" height=\"24px\"viewBox=\"0 0 24 24\"\n",
              "       width=\"24px\">\n",
              "    <path d=\"M0 0h24v24H0V0z\" fill=\"none\"/>\n",
              "    <path d=\"M18.56 5.44l.94 2.06.94-2.06 2.06-.94-2.06-.94-.94-2.06-.94 2.06-2.06.94zm-11 1L8.5 8.5l.94-2.06 2.06-.94-2.06-.94L8.5 2.5l-.94 2.06-2.06.94zm10 10l.94 2.06.94-2.06 2.06-.94-2.06-.94-.94-2.06-.94 2.06-2.06.94z\"/><path d=\"M17.41 7.96l-1.37-1.37c-.4-.4-.92-.59-1.43-.59-.52 0-1.04.2-1.43.59L10.3 9.45l-7.72 7.72c-.78.78-.78 2.05 0 2.83L4 21.41c.39.39.9.59 1.41.59.51 0 1.02-.2 1.41-.59l7.78-7.78 2.81-2.81c.8-.78.8-2.07 0-2.86zM5.41 20L4 18.59l7.72-7.72 1.47 1.35L5.41 20z\"/>\n",
              "  </svg>\n",
              "      </button>\n",
              "      \n",
              "  <style>\n",
              "    .colab-df-container {\n",
              "      display:flex;\n",
              "      flex-wrap:wrap;\n",
              "      gap: 12px;\n",
              "    }\n",
              "\n",
              "    .colab-df-convert {\n",
              "      background-color: #E8F0FE;\n",
              "      border: none;\n",
              "      border-radius: 50%;\n",
              "      cursor: pointer;\n",
              "      display: none;\n",
              "      fill: #1967D2;\n",
              "      height: 32px;\n",
              "      padding: 0 0 0 0;\n",
              "      width: 32px;\n",
              "    }\n",
              "\n",
              "    .colab-df-convert:hover {\n",
              "      background-color: #E2EBFA;\n",
              "      box-shadow: 0px 1px 2px rgba(60, 64, 67, 0.3), 0px 1px 3px 1px rgba(60, 64, 67, 0.15);\n",
              "      fill: #174EA6;\n",
              "    }\n",
              "\n",
              "    [theme=dark] .colab-df-convert {\n",
              "      background-color: #3B4455;\n",
              "      fill: #D2E3FC;\n",
              "    }\n",
              "\n",
              "    [theme=dark] .colab-df-convert:hover {\n",
              "      background-color: #434B5C;\n",
              "      box-shadow: 0px 1px 3px 1px rgba(0, 0, 0, 0.15);\n",
              "      filter: drop-shadow(0px 1px 2px rgba(0, 0, 0, 0.3));\n",
              "      fill: #FFFFFF;\n",
              "    }\n",
              "  </style>\n",
              "\n",
              "      <script>\n",
              "        const buttonEl =\n",
              "          document.querySelector('#df-d5d52955-79e6-434d-ac9e-8d3a0f12da4d button.colab-df-convert');\n",
              "        buttonEl.style.display =\n",
              "          google.colab.kernel.accessAllowed ? 'block' : 'none';\n",
              "\n",
              "        async function convertToInteractive(key) {\n",
              "          const element = document.querySelector('#df-d5d52955-79e6-434d-ac9e-8d3a0f12da4d');\n",
              "          const dataTable =\n",
              "            await google.colab.kernel.invokeFunction('convertToInteractive',\n",
              "                                                     [key], {});\n",
              "          if (!dataTable) return;\n",
              "\n",
              "          const docLinkHtml = 'Like what you see? Visit the ' +\n",
              "            '<a target=\"_blank\" href=https://colab.research.google.com/notebooks/data_table.ipynb>data table notebook</a>'\n",
              "            + ' to learn more about interactive tables.';\n",
              "          element.innerHTML = '';\n",
              "          dataTable['output_type'] = 'display_data';\n",
              "          await google.colab.output.renderOutput(dataTable, element);\n",
              "          const docLink = document.createElement('div');\n",
              "          docLink.innerHTML = docLinkHtml;\n",
              "          element.appendChild(docLink);\n",
              "        }\n",
              "      </script>\n",
              "    </div>\n",
              "  </div>\n",
              "  "
            ]
          },
          "metadata": {},
          "execution_count": 41
        }
      ]
    },
    {
      "cell_type": "code",
      "metadata": {
        "colab": {
          "base_uri": "https://localhost:8080/"
        },
        "id": "44z_H8_DPqIV",
        "outputId": "78dde450-7403-4213-e47e-40550de475fe"
      },
      "source": [
        "iot_data.resample('H').mean().shape, iot_data.resample('H').mean().info()"
      ],
      "execution_count": null,
      "outputs": [
        {
          "output_type": "stream",
          "name": "stdout",
          "text": [
            "<class 'pandas.core.frame.DataFrame'>\n",
            "DatetimeIndex: 325 entries, 2022-12-01 09:00:00 to 2022-12-14 21:00:00\n",
            "Freq: H\n",
            "Data columns (total 9 columns):\n",
            " #   Column   Non-Null Count  Dtype  \n",
            "---  ------   --------------  -----  \n",
            " 0   accel_x  8 non-null      float64\n",
            " 1   accel_y  8 non-null      float64\n",
            " 2   accel_z  8 non-null      float64\n",
            " 3   gyro_x   8 non-null      float64\n",
            " 4   gyro_y   8 non-null      float64\n",
            " 5   gyro_z   8 non-null      float64\n",
            " 6   mag_x    8 non-null      float64\n",
            " 7   mag_y    8 non-null      float64\n",
            " 8   mag_z    8 non-null      float64\n",
            "dtypes: float64(9)\n",
            "memory usage: 25.4 KB\n"
          ]
        },
        {
          "output_type": "execute_result",
          "data": {
            "text/plain": [
              "((325, 9), None)"
            ]
          },
          "metadata": {},
          "execution_count": 40
        }
      ]
    },
    {
      "cell_type": "code",
      "metadata": {
        "colab": {
          "base_uri": "https://localhost:8080/",
          "height": 444
        },
        "id": "7zNu8qnxwl0Q",
        "outputId": "caf77c15-fef8-47a8-cdad-b37c6dff8010"
      },
      "source": [
        "#  Plot mean of the iot data per every hour \n",
        "iot_data.resample('H').mean().plot(figsize=(10,6), '-o'\n",
        "                                   title='Hourly change of all sensor data') #, \n",
        "                                #    ylim=[0,500])"
      ],
      "execution_count": null,
      "outputs": [
        {
          "output_type": "execute_result",
          "data": {
            "text/plain": [
              "<matplotlib.axes._subplots.AxesSubplot at 0x7f8a7e9a1820>"
            ]
          },
          "metadata": {},
          "execution_count": 42
        },
        {
          "output_type": "display_data",
          "data": {
            "text/plain": [
              "<Figure size 720x432 with 1 Axes>"
            ],
            "image/png": "[encoded data removed]"
          },
          "metadata": {
            "needs_background": "light"
          }
        }
      ]
    },
    {
      "cell_type": "markdown",
      "source": [
        "### [DIY-6]  아래 코드를 참조해서 Az,Gz,Mz의 1 시간 평균값의 변화를 보여 주는 그래프를 그리시오."
      ],
      "metadata": {
        "id": "SF4Jmw4Zzy6v"
      }
    },
    {
      "cell_type": "code",
      "metadata": {
        "colab": {
          "base_uri": "https://localhost:8080/",
          "height": 615
        },
        "id": "QXDpqM0IMSho",
        "outputId": "9f00af33-caea-403c-e462-39c579e38a8d"
      },
      "source": [
        "#  Plot mean of the iot data per every minute\n",
        "iot_data[['r_ratio', 'g_ratio', 'b_ratio']].resample('H').mean().plot(figsize=(10,6), \n",
        "                                    color = ['red', 'green', 'blue'],\n",
        "                                    title='Hourly change of Az, Gz, Mz')"
      ],
      "execution_count": null,
      "outputs": [
        {
          "output_type": "execute_result",
          "data": {
            "text/plain": [
              "<matplotlib.axes._subplots.AxesSubplot at 0x7fdc21894890>"
            ]
          },
          "metadata": {},
          "execution_count": 62
        },
        {
          "output_type": "display_data",
          "data": {
            "text/plain": [
              "<Figure size 1000x600 with 1 Axes>"
            ],
            "image/png": "[encoded data removed]"
          },
          "metadata": {}
        }
      ]
    },
    {
      "cell_type": "markdown",
      "source": [
        "### Good Job!  Have a great winter vacation!!!"
      ],
      "metadata": {
        "id": "_ZgNafGZ0fsV"
      }
    },
    {
      "cell_type": "markdown",
      "source": [
        "----"
      ],
      "metadata": {
        "id": "8BcJ8Xlz0tbd"
      }
    },
    {
      "cell_type": "code",
      "source": [],
      "metadata": {
        "id": "4mmCP2TU0u1T"
      },
      "execution_count": null,
      "outputs": []
    }
  ]
}