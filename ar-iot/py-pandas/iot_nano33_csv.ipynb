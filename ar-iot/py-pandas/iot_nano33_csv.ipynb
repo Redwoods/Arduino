{
  "nbformat": 4,
  "nbformat_minor": 0,
  "metadata": {
    "colab": {
      "name": "iot_nano33_csv.ipynb",
      "provenance": [],
      "include_colab_link": true
    },
    "kernelspec": {
      "display_name": "Python 3",
      "name": "python3"
    },
    "language_info": {
      "name": "python",
      "version": "3.8.5"
    }
  },
  "cells": [
    {
      "cell_type": "markdown",
      "metadata": {
        "id": "view-in-github",
        "colab_type": "text"
      },
      "source": [
        "<a href=\"https://colab.research.google.com/github/Redwoods/Arduino/blob/master/ar-iot/py-pandas/iot_nano33_csv.ipynb\" target=\"_parent\"><img src=\"https://colab.research.google.com/assets/colab-badge.svg\" alt=\"Open In Colab\"/></a>"
      ]
    },
    {
      "cell_type": "markdown",
      "metadata": {
        "id": "oYht3IoGwlyU"
      },
      "source": [
        "## Pandas: access to the remote json from MongoDB\n",
        "- The json file is generated on the fly from the express server of Node.js.\n",
        "- The data stored in MongoDB are saved in the json file.\n",
        "- The data are composed of three time series; temperature, humidity, and luminosity.\n"
      ]
    },
    {
      "cell_type": "code",
      "metadata": {
        "id": "GYezm0oWwlyW"
      },
      "source": [
        "import pandas as pd\n",
        "import numpy as np\n",
        "import matplotlib.pyplot as plt\n",
        "from matplotlib import animation, rc"
      ],
      "execution_count": null,
      "outputs": []
    },
    {
      "cell_type": "markdown",
      "metadata": {
        "id": "1xQdk1RkeFpY"
      },
      "source": [
        "## [데이터 로드 1.]\n",
        "- loading real-time json file from MongoDB via web\n",
        "\n",
        "- http://life21c.inje.ac.kr:3030/client_33.html"
      ]
    },
    {
      "cell_type": "code",
      "metadata": {
        "id": "jguBydRLwlyc"
      },
      "source": [
        "# loading real-time json file from MongoDB via web (CORS, port=3030)\n",
        "# url=\"http://life21c.inje.ac.kr:3030/iot\"\n",
        "# df=pd.read_json(url)\n",
        "# print('Large IoT data was retrieved successfully from MongoDB!')"
      ],
      "execution_count": null,
      "outputs": []
    },
    {
      "cell_type": "markdown",
      "source": [],
      "metadata": {
        "id": "FQQbBhpvGRNm"
      }
    },
    {
      "cell_type": "markdown",
      "metadata": {
        "id": "TpDlu78Hd37h"
      },
      "source": [
        "## [데이터 로드 2.]\n",
        "- Load the compressed data from github.com"
      ]
    },
    {
      "cell_type": "code",
      "metadata": {
        "id": "vDohppnxx3CD"
      },
      "source": [
        "# Load the compressed data from github.com\n",
        "# https://towardsdatascience.com/4-awesome-ways-of-loading-ml-data-in-google-colab-9a5264c61966\n",
        "# url_zip = 'https://github.com/Redwoods/Py/raw/master/pdm2020/my-note/py-pandas/data/iot_data_201005_raw.zip'\n",
        "!wget https://github.com/Redwoods/Py/raw/master/pdm2020/my-note/py-pandas/data/iot_data_201005_raw.zip\n",
        "!unzip iot_data_201005_raw.zip"
      ],
      "execution_count": null,
      "outputs": []
    },
    {
      "cell_type": "code",
      "metadata": {
        "id": "g5r86Xpo0gjq"
      },
      "source": [
        "df = pd.read_csv(\"iot_data_201005_raw.csv\", index_col=False)\n",
        "df.head()"
      ],
      "execution_count": null,
      "outputs": []
    },
    {
      "cell_type": "code",
      "metadata": {
        "id": "ATXd9T04wlyg"
      },
      "source": [
        "df.tail()"
      ],
      "execution_count": null,
      "outputs": []
    },
    {
      "cell_type": "code",
      "metadata": {
        "id": "xu5T5omfwlys"
      },
      "source": [
        "df.shape, type(df)"
      ],
      "execution_count": null,
      "outputs": []
    },
    {
      "cell_type": "code",
      "metadata": {
        "id": "IGr_hz20Il9L"
      },
      "source": [
        "df['date'][:1],df['date'][-1:]"
      ],
      "execution_count": null,
      "outputs": []
    },
    {
      "cell_type": "code",
      "metadata": {
        "id": "Ba7jYmgKwlyx"
      },
      "source": [
        "df.info()"
      ],
      "execution_count": null,
      "outputs": []
    },
    {
      "cell_type": "code",
      "metadata": {
        "id": "6VGEIgiEydOV"
      },
      "source": [
        "df.describe()"
      ],
      "execution_count": null,
      "outputs": []
    },
    {
      "cell_type": "code",
      "metadata": {
        "id": "hhP06hHOLHVg"
      },
      "source": [
        "# Save iot data in csv file.\n",
        "# df.to_csv('iot_data_201005_raw.csv')"
      ],
      "execution_count": null,
      "outputs": []
    },
    {
      "cell_type": "markdown",
      "metadata": {
        "id": "g9Z8adSvNEp_"
      },
      "source": [
        "## Check data\n",
        "- NaN\n",
        "- missing value"
      ]
    },
    {
      "cell_type": "code",
      "metadata": {
        "id": "c35w4k5fNJRI"
      },
      "source": [
        "df.isnull().sum() #/df.shape[0]*100"
      ],
      "execution_count": null,
      "outputs": []
    },
    {
      "cell_type": "code",
      "metadata": {
        "id": "V6txumYNbERU"
      },
      "source": [
        "df.isna().sum()"
      ],
      "execution_count": null,
      "outputs": []
    },
    {
      "cell_type": "markdown",
      "metadata": {
        "id": "eR-9lPsaN1ce"
      },
      "source": [
        "## Replace NaN with mean: Imputation\n",
        "- NaN ==>> 33.3 (100/3)"
      ]
    },
    {
      "cell_type": "code",
      "metadata": {
        "id": "aOZec4f9Z4uB"
      },
      "source": [
        "df=df.fillna(33.3)\n",
        "df.isna().sum()"
      ],
      "execution_count": null,
      "outputs": []
    },
    {
      "cell_type": "code",
      "metadata": {
        "id": "azt9NJNhOGI-"
      },
      "source": [
        "# for whole dataframe\n",
        "# df = df.replace(np.nan, 33.3)\n",
        "# df.isnull().sum()"
      ],
      "execution_count": null,
      "outputs": []
    },
    {
      "cell_type": "markdown",
      "metadata": {
        "id": "fMZWYEMxOmSy"
      },
      "source": [
        "## IoT data were cleaned!"
      ]
    },
    {
      "cell_type": "code",
      "metadata": {
        "id": "PG38R4s0pU4B"
      },
      "source": [
        "df.head()"
      ],
      "execution_count": null,
      "outputs": []
    },
    {
      "cell_type": "markdown",
      "metadata": {
        "id": "H5gtQbgCw62w"
      },
      "source": [
        "## New DataFrame : iot_data\n",
        "### Dataframe with date and sensor values(temperature, humidity, luminosity, pressure, r, g, b)"
      ]
    },
    {
      "cell_type": "code",
      "metadata": {
        "id": "5VTfTsldfaGj"
      },
      "source": [
        "#  select columns\n",
        "cols = ['date', 'temperature', 'humidity', 'luminosity', 'pressure', 'r_ratio', 'g_ratio', 'b_ratio']"
      ],
      "execution_count": null,
      "outputs": []
    },
    {
      "cell_type": "code",
      "metadata": {
        "id": "wLi8PDa_wly3"
      },
      "source": [
        "# Make iot data\n",
        "iot_data = df[cols]"
      ],
      "execution_count": null,
      "outputs": []
    },
    {
      "cell_type": "code",
      "metadata": {
        "id": "NWW0Y_Zswly8"
      },
      "source": [
        "iot_data.shape"
      ],
      "execution_count": null,
      "outputs": []
    },
    {
      "cell_type": "code",
      "metadata": {
        "id": "QrsngVb8wlzA"
      },
      "source": [
        "iot_data.head()  # date와 7 개의 신호를 확인."
      ],
      "execution_count": null,
      "outputs": []
    },
    {
      "cell_type": "code",
      "metadata": {
        "id": "ZI7ggvWpwlzG"
      },
      "source": [
        "iot_data.info()"
      ],
      "execution_count": null,
      "outputs": []
    },
    {
      "cell_type": "code",
      "metadata": {
        "id": "YlYSuLHMdX3_"
      },
      "source": [
        "iot_data.isna().sum()"
      ],
      "execution_count": null,
      "outputs": []
    },
    {
      "cell_type": "code",
      "metadata": {
        "id": "sKH2MLA7lxjh"
      },
      "source": [
        "# Save iot data in csv file.\n",
        "iot_data.to_csv('iot_data_201005_clean.csv')"
      ],
      "execution_count": null,
      "outputs": []
    },
    {
      "cell_type": "markdown",
      "metadata": {
        "id": "tqGuXzIPfYbZ"
      },
      "source": [
        "## EDA"
      ]
    },
    {
      "cell_type": "code",
      "metadata": {
        "id": "2QB6w7uvuN6R"
      },
      "source": [
        "# Plot boxplot\n",
        "# iot_data[['temperature','humidity','luminosity']].plot.box(title='Boxplot of temperature, humidity, and luminosity')\n",
        "# iot_data.loc[:,'temperature':'luminosity'].plot.box(title='Boxplot of temperature, humidity, and luminosity')\n",
        "iot_data.iloc[:,1:].plot.box(title='Boxplot of all signals')\n",
        "# plt.xticks(rotation=60)\n",
        "plt.show()"
      ],
      "execution_count": null,
      "outputs": []
    },
    {
      "cell_type": "markdown",
      "metadata": {
        "id": "feFqm_ocxRjV"
      },
      "source": [
        "### Plot time series of sensor data"
      ]
    },
    {
      "cell_type": "code",
      "metadata": {
        "id": "4HhOr7ivOnN3"
      },
      "source": [
        "iot_data.head()"
      ],
      "execution_count": null,
      "outputs": []
    },
    {
      "cell_type": "code",
      "metadata": {
        "id": "AM_CyVjawlzM"
      },
      "source": [
        "iot_data.plot(x='date', y='temperature', figsize=(10,5), title='temperature')\n",
        "plt.xticks(rotation=90)\n",
        "plt.show()"
      ],
      "execution_count": null,
      "outputs": []
    },
    {
      "cell_type": "markdown",
      "metadata": {
        "id": "RzdQY6Nbf7ET"
      },
      "source": [
        "### Set style of graph\n",
        "- plt.style.use('fivethirtyeight')\n",
        "- plt.style.use('ggplot')"
      ]
    },
    {
      "cell_type": "code",
      "metadata": {
        "id": "e0GNB13ngjo2"
      },
      "source": [
        "plt.style.available"
      ],
      "execution_count": null,
      "outputs": []
    },
    {
      "cell_type": "code",
      "metadata": {
        "id": "iUAvX6E_gMkU"
      },
      "source": [
        "iot_data.plot(x='date', y='temperature', figsize=(10,5), title='temperature')\n",
        "plt.xticks(rotation=60)\n",
        "plt.style.use('fivethirtyeight') # 'seaborn-pastel', 'fivethirtyeight'\n",
        "plt.show()"
      ],
      "execution_count": null,
      "outputs": []
    },
    {
      "cell_type": "code",
      "metadata": {
        "id": "yEIaJZVVgT8u"
      },
      "source": [
        "iot_data.plot(x='date', y='temperature', figsize=(10,5), title='temperature')\n",
        "plt.xticks(rotation=60)\n",
        "plt.style.use('ggplot')\n",
        "plt.show()"
      ],
      "execution_count": null,
      "outputs": []
    },
    {
      "cell_type": "code",
      "metadata": {
        "id": "b3s_-fushN1y"
      },
      "source": [
        "# restore default style\n",
        "plt.style.use('default')"
      ],
      "execution_count": null,
      "outputs": []
    },
    {
      "cell_type": "code",
      "metadata": {
        "id": "SAy74_iEwlzQ"
      },
      "source": [
        "iot_data.plot(x='date', y='humidity', figsize=(10,5), title='humidity')\n",
        "plt.xticks(rotation=60)\n",
        "plt.show()"
      ],
      "execution_count": null,
      "outputs": []
    },
    {
      "cell_type": "code",
      "metadata": {
        "id": "d7kyWhVDwlzW"
      },
      "source": [
        "iot_data.plot(x='date', y='luminosity', figsize=(10,5), title='luminosity')\n",
        "plt.xticks(rotation=60)\n",
        "plt.show()"
      ],
      "execution_count": null,
      "outputs": []
    },
    {
      "cell_type": "code",
      "metadata": {
        "id": "MbaBO6uRKCjj"
      },
      "source": [
        "iot_data.plot(x='date', y='pressure', figsize=(10,5), title='pressure')\n",
        "plt.xticks(rotation=90)\n",
        "plt.show()"
      ],
      "execution_count": null,
      "outputs": []
    },
    {
      "cell_type": "markdown",
      "metadata": {
        "id": "4W2OVUXZ0eKc"
      },
      "source": [
        "#### 다중그래프 (multiple graphs)"
      ]
    },
    {
      "cell_type": "code",
      "metadata": {
        "id": "7XiF7ghFwlzc"
      },
      "source": [
        "# Plot of ['temperature','humidity']\n",
        "iot_data.plot(x='date', y=['temperature','humidity'], figsize=(10,5), title='temperature and humidity')"
      ],
      "execution_count": null,
      "outputs": []
    },
    {
      "cell_type": "code",
      "metadata": {
        "id": "3tH-ca5Jwlzi"
      },
      "source": [
        "# Plot of ['temperature','humidity','luminosity','pressure']\n",
        "iot_data.plot(x='date', y=['temperature','humidity','luminosity','pressure'], figsize=(10,6),\n",
        "             title='temperature, humidity, luminosity and pressure')\n",
        "plt.xticks(rotation=60)\n",
        "plt.show()"
      ],
      "execution_count": null,
      "outputs": []
    },
    {
      "cell_type": "markdown",
      "metadata": {
        "id": "6yaOaE05xthv"
      },
      "source": [
        "#### Plot the mean of sensor data"
      ]
    },
    {
      "cell_type": "code",
      "metadata": {
        "id": "455qOpbbwlzp"
      },
      "source": [
        "iot_data[['temperature','humidity','luminosity']].mean()"
      ],
      "execution_count": null,
      "outputs": []
    },
    {
      "cell_type": "code",
      "metadata": {
        "id": "26ZUc5ULwlzw"
      },
      "source": [
        "iot_data[['temperature','humidity','luminosity']].mean().plot.bar(figsize=(8,5),\n",
        "                                                                  title=\"Mean of temperature, humidity, and luminosity\")"
      ],
      "execution_count": null,
      "outputs": []
    },
    {
      "cell_type": "code",
      "metadata": {
        "id": "0aQZ0HN_ihK4"
      },
      "source": [
        "plt.style.use('seaborn-pastel')   # fivethirtyeight, ggplot\n",
        "iot_data[['temperature','humidity','luminosity']].mean().plot.bar(figsize=(6,3),\n",
        "                                                                  title=\"Mean of temperature, humidity, and luminosity\")"
      ],
      "execution_count": null,
      "outputs": []
    },
    {
      "cell_type": "markdown",
      "metadata": {
        "id": "DwAOwL1kdEUn"
      },
      "source": [
        "# Advanced graphics using pandas"
      ]
    },
    {
      "cell_type": "markdown",
      "metadata": {
        "id": "LxgcWZ2wx6TQ"
      },
      "source": [
        "### Plot the change of sensor data over various time spans.\n",
        "\n",
        "> time span: 60 sec, 1 hour, 1 day, 1 week"
      ]
    },
    {
      "cell_type": "code",
      "metadata": {
        "id": "XJkQTSBdTopX"
      },
      "source": [
        "iot_data.head()"
      ],
      "execution_count": null,
      "outputs": []
    },
    {
      "cell_type": "markdown",
      "metadata": {
        "id": "ndt4b_ZTwlz1"
      },
      "source": [
        "#### Set date as index of timestamp"
      ]
    },
    {
      "cell_type": "code",
      "metadata": {
        "id": "V6MpkrDhwlz2"
      },
      "source": [
        "iot_data.set_index('date',inplace=True)"
      ],
      "execution_count": null,
      "outputs": []
    },
    {
      "cell_type": "code",
      "metadata": {
        "id": "w9ztE8jDUAta"
      },
      "source": [
        "iot_data.head()"
      ],
      "execution_count": null,
      "outputs": []
    },
    {
      "cell_type": "code",
      "metadata": {
        "id": "HR2XersJUIH2"
      },
      "source": [
        "iot_data.info()"
      ],
      "execution_count": null,
      "outputs": []
    },
    {
      "cell_type": "code",
      "metadata": {
        "id": "g1MtmghfiQk7"
      },
      "source": [
        "# Convert date index to Datetime index, 중요!!!\n",
        "iot_data.index = pd.to_datetime(iot_data.index)"
      ],
      "execution_count": null,
      "outputs": []
    },
    {
      "cell_type": "code",
      "metadata": {
        "id": "gY7QvLKbwlz5"
      },
      "source": [
        "iot_data.info() # Range index -> timestamp(Datetime) index"
      ],
      "execution_count": null,
      "outputs": []
    },
    {
      "cell_type": "code",
      "metadata": {
        "id": "5fjfDVvhwlz-"
      },
      "source": [
        "iot_data.head()"
      ],
      "execution_count": null,
      "outputs": []
    },
    {
      "cell_type": "code",
      "metadata": {
        "id": "TDkJgBRJwl0D"
      },
      "source": [
        "# Estimate the mean of the iot data for every minute\n",
        "iot_data.resample('60S').mean()"
      ],
      "execution_count": null,
      "outputs": []
    },
    {
      "cell_type": "code",
      "metadata": {
        "id": "pTaucOzzwl0H"
      },
      "source": [
        "#  Plot mean of the iot data per every minute\n",
        "iot_data.resample('60S').mean().plot(figsize=(8,5),\n",
        "                                     title='Minutely change of temperature, humidity, and luminosity, and all')\n",
        "plt.legend(bbox_to_anchor=(1.02, 1.0))"
      ],
      "execution_count": null,
      "outputs": []
    },
    {
      "cell_type": "code",
      "metadata": {
        "id": "12Ydfv9ULNBl"
      },
      "source": [
        "#  Plot mean of the iot data per every minute\n",
        "iot_data[['r_ratio', 'g_ratio', 'b_ratio']].resample('60S').mean().plot(figsize=(10,5),\n",
        "                                     title='Minutely change of R, G, B',\n",
        "                                     color=\"rgb\")"
      ],
      "execution_count": null,
      "outputs": []
    },
    {
      "cell_type": "code",
      "metadata": {
        "id": "cMHVdg3awl0M"
      },
      "source": [
        "# Estimate the mean of iot data for every hour\n",
        "iot_data.resample('H').mean()  # mean per each hour"
      ],
      "execution_count": null,
      "outputs": []
    },
    {
      "cell_type": "code",
      "metadata": {
        "id": "44z_H8_DPqIV"
      },
      "source": [
        "iot_data.resample('H').mean().shape, iot_data.resample('H').mean().info()"
      ],
      "execution_count": null,
      "outputs": []
    },
    {
      "cell_type": "code",
      "metadata": {
        "id": "7zNu8qnxwl0Q"
      },
      "source": [
        "#  Plot mean of the iot data per every hour\n",
        "iot_data.resample('H').mean().plot(figsize=(10,6),\n",
        "                                   title='Hourly change of all sensor data') #,\n",
        "                                #    ylim=[0,500])"
      ],
      "execution_count": null,
      "outputs": []
    },
    {
      "cell_type": "code",
      "metadata": {
        "id": "QXDpqM0IMSho"
      },
      "source": [
        "#  Plot mean of the iot data per every minute\n",
        "iot_data[['r_ratio', 'g_ratio', 'b_ratio']].resample('H').mean().plot(figsize=(10,6),\n",
        "                                    color = ['red', 'green', 'blue'],\n",
        "                                    title='Hourly change of R, G, B')"
      ],
      "execution_count": null,
      "outputs": []
    },
    {
      "cell_type": "markdown",
      "metadata": {
        "id": "4wCl6uERks-6"
      },
      "source": [
        "## [도전하기]  하루 24 시간 동안의 R,G,B 변화 그래프를 그려보시오."
      ]
    },
    {
      "cell_type": "code",
      "metadata": {
        "id": "JyLg04APwl0W"
      },
      "source": [
        "# Estimate the mean of iot data for every day\n",
        "iot_data.resample('D').mean()"
      ],
      "execution_count": null,
      "outputs": []
    },
    {
      "cell_type": "code",
      "metadata": {
        "id": "gVG9n14NRpMr"
      },
      "source": [
        "iot_data.resample('D').mean().shape, iot_data.resample('D').mean().info()"
      ],
      "execution_count": null,
      "outputs": []
    },
    {
      "cell_type": "code",
      "metadata": {
        "id": "7pu_nLRlR43f"
      },
      "source": [
        "iot_data.resample('D').mean().head()"
      ],
      "execution_count": null,
      "outputs": []
    },
    {
      "cell_type": "code",
      "metadata": {
        "id": "xdaLijZESQJD"
      },
      "source": [
        "iot_data_day=iot_data.resample('D').mean()\n",
        "iot_data_day.head()"
      ],
      "execution_count": null,
      "outputs": []
    },
    {
      "cell_type": "code",
      "metadata": {
        "id": "FRRF6x-rSacH"
      },
      "source": [
        "iot_data_day.info()"
      ],
      "execution_count": null,
      "outputs": []
    },
    {
      "cell_type": "code",
      "metadata": {
        "id": "xuIjKqS4wl0b"
      },
      "source": [
        "#  Plot mean of the iot data per every day\n",
        "iot_data.resample('D').mean().plot(kind='bar', #marker='o', ms=6, figsize=(12,6),\n",
        "                                   title='Daily change of all sensor data')"
      ],
      "execution_count": null,
      "outputs": []
    },
    {
      "cell_type": "code",
      "metadata": {
        "id": "hNwnad-1Mq2J"
      },
      "source": [
        "#  Plot mean of the iot data per every day\n",
        "iot_data[['r_ratio', 'g_ratio', 'b_ratio']].resample('D').mean().plot(figsize=(10,6),\n",
        "                                    color = ['r','g','b'], #marker='o', ms=6,\n",
        "                                    title='Dayly change of R, G, B')"
      ],
      "execution_count": null,
      "outputs": []
    },
    {
      "cell_type": "markdown",
      "metadata": {
        "id": "YWg8g8NLNEq5"
      },
      "source": [
        "## 위의 그래프를 파이 그래프로 그려보시오."
      ]
    },
    {
      "cell_type": "code",
      "metadata": {
        "id": "Ww1n14LgMyu0"
      },
      "source": [
        "#  Plot mean of the iot data per every day\n",
        "# df.plot.pie(subplots=True, figsize=(6, 3))\n",
        "iot_rgb = iot_data[['r_ratio', 'g_ratio', 'b_ratio']].resample('D').mean()\n",
        "iot_rgb.head()\n"
      ],
      "execution_count": null,
      "outputs": []
    },
    {
      "cell_type": "code",
      "metadata": {
        "id": "iHXiQOJ3hDUE"
      },
      "source": [
        "iot_rgb.iloc[0],iot_rgb.iloc[1]"
      ],
      "execution_count": null,
      "outputs": []
    },
    {
      "cell_type": "code",
      "metadata": {
        "id": "-j_JwzWzUMsE"
      },
      "source": [
        "iot_rgb.index, len(iot_rgb.index)"
      ],
      "execution_count": null,
      "outputs": []
    },
    {
      "cell_type": "code",
      "metadata": {
        "id": "njj5inFhUsNY"
      },
      "source": [
        "# Convert timestamp to date string\n",
        "iot_rgb.index[0].strftime('%Y-%m-%d')"
      ],
      "execution_count": null,
      "outputs": []
    },
    {
      "cell_type": "code",
      "metadata": {
        "id": "Z0qbRkwbg0Ki"
      },
      "source": [
        "iot_rgb.iloc[0].plot.pie(subplots=True, figsize=(5,3),\n",
        "                         colors = ['red', 'green', 'blue'], labeldistance=None,\n",
        "                         autopct='%.2f',\n",
        "                         title='Daily change of R, G, B')\n",
        "plt.ylabel(iot_rgb.index[0].strftime('%Y-%m-%d'))\n",
        "plt.show()"
      ],
      "execution_count": null,
      "outputs": []
    },
    {
      "cell_type": "markdown",
      "metadata": {
        "id": "GAwnIF7LxcBX"
      },
      "source": [
        "## Weekly graph"
      ]
    },
    {
      "cell_type": "code",
      "metadata": {
        "id": "HtVlVQjtyifN"
      },
      "source": [
        "# Estimate the mean of iot data for every week\n",
        "iot_data.resample('W').mean()"
      ],
      "execution_count": null,
      "outputs": []
    },
    {
      "cell_type": "code",
      "metadata": {
        "id": "-2V_u9mAyo3z"
      },
      "source": [
        "#  Plot mean of the iot data per every week\n",
        "iot_data.resample('W').mean().plot(kind='bar', #marker='o', ms=10,\n",
        "                                   figsize=(12,6),\n",
        "                                   title='Weekly change of temperature, humidity, and luminosity, pressure, R, G , B')"
      ],
      "execution_count": null,
      "outputs": []
    },
    {
      "cell_type": "code",
      "metadata": {
        "id": "JfDPpCrpdKHE"
      },
      "source": [
        "#  Plot mean of the iot data per every week\n",
        "iot_data['temperature'].resample('W').mean().plot(kind='bar', #marker='o', ms=10,\n",
        "                                   figsize=(12,6),\n",
        "                                   title='Weekly change of temperature')"
      ],
      "execution_count": null,
      "outputs": []
    },
    {
      "cell_type": "code",
      "metadata": {
        "id": "11rqWBGEbmlk"
      },
      "source": [
        "#  Plot mean of the iot data per every week\n",
        "iot_data[['temperature','humidity']].resample('W').mean().plot(kind='bar', #marker='o', ms=10,\n",
        "                                   figsize=(12,6),\n",
        "                                   title='Weekly change of temperature and humidity')"
      ],
      "execution_count": null,
      "outputs": []
    },
    {
      "cell_type": "markdown",
      "metadata": {
        "id": "plwo3ieEb95P"
      },
      "source": [
        "# [도전] 다중 파이 그래프"
      ]
    },
    {
      "cell_type": "markdown",
      "metadata": {
        "id": "J78vRZd9rNbg"
      },
      "source": [
        "### 다중 파이 그래프\n",
        "- https://medium.com/@kvnamipara/a-better-visualisation-of-pie-charts-by-matplotlib-935b7667d77f"
      ]
    },
    {
      "cell_type": "code",
      "metadata": {
        "id": "ivUsPCzWcQWS"
      },
      "source": [
        "iot_rgb.shape,iot_rgb.index.size"
      ],
      "execution_count": null,
      "outputs": []
    },
    {
      "cell_type": "code",
      "metadata": {
        "id": "FHgZpSWiqdF-"
      },
      "source": [
        "fig, axs = plt.subplots(nrows=1, ncols=iot_rgb.index.size, figsize=(20,5))\n",
        "\n",
        "fig.subplots_adjust(hspace=0.5, wspace=0.05)\n",
        "\n",
        "for row in range(iot_rgb.index.size):\n",
        "    fig.add_subplot(axs[row] )\n",
        "    plt.pie(iot_rgb.iloc[row],\n",
        "            colors = ['red', 'green', 'blue'], labeldistance=None,\n",
        "                         autopct='%.2f')  #, labels=df.columns)\n",
        "    plt.ylabel(iot_rgb.index[row].strftime('%Y-%m-%d'))\n",
        "    # plt.axis('off')"
      ],
      "execution_count": null,
      "outputs": []
    },
    {
      "cell_type": "markdown",
      "metadata": {
        "id": "7iRdsQuideDD"
      },
      "source": [
        "### axes array 코드 참조\n",
        "```\n",
        "for row in ax:\n",
        "    for col in row:\n",
        "        col.plot(x, y)\n",
        "```"
      ]
    },
    {
      "cell_type": "code",
      "metadata": {
        "id": "rBrWEwN2uyb4"
      },
      "source": [
        "fig, axs = plt.subplots(nrows=(iot_rgb.index.size-1)//7+1, ncols=7, figsize=(16,16))\n",
        "# axs.set_axis_off()\n",
        "\n",
        "fig.subplots_adjust(hspace=0.5, wspace=0.05)\n",
        "idx=0\n",
        "for row in axs:\n",
        "    # fig.add_subplot(axs[row] )\n",
        "    # fig.add_subplot(5, 7, row+1)\n",
        "    # ax = axs[row]\n",
        "    for col in row:\n",
        "        col.pie(iot_rgb.iloc[idx],\n",
        "            colors = ['red', 'green', 'blue'], labeldistance=None,\n",
        "                         autopct='%.2f')  #, labels=df.columns)\n",
        "\n",
        "        col.set_ylabel(iot_rgb.index[idx].strftime('%Y-%m-%d'),fontsize=12)\n",
        "        idx = idx + 1\n",
        "\n",
        "        if idx == iot_rgb.index.size:\n",
        "            idx = iot_rgb.index.size-1\n",
        "\n",
        "    # plt.axis('off')\n",
        "    # plt.axis('off')\n",
        "    # plt.grid(False)\n",
        "plt.show()"
      ],
      "execution_count": null,
      "outputs": []
    },
    {
      "cell_type": "markdown",
      "metadata": {
        "id": "CiIDU0dHwl0h"
      },
      "source": [
        "## 와, Great!"
      ]
    },
    {
      "cell_type": "markdown",
      "metadata": {
        "id": "gAzuUZKzDUBV"
      },
      "source": [
        "---"
      ]
    }
  ]
}